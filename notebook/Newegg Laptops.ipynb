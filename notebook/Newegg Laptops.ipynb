{
 "cells": [
  {
   "cell_type": "markdown",
   "id": "107b2b2f",
   "metadata": {},
   "source": [
    "# Laptop Price Predictor"
   ]
  },
  {
   "cell_type": "markdown",
   "id": "0fddc6b1",
   "metadata": {},
   "source": [
    "### Life cycle of Machine Learning Project"
   ]
  },
  {
   "cell_type": "markdown",
   "id": "0a5e26f6",
   "metadata": {},
   "source": [
    "- Understanding the Problem Statement\n",
    "- Data Collection\n",
    "- Data Checks to Perform\n",
    "- Exploratory Data Analysis (EDA)\n",
    "- Data Pre-Processing\n",
    "- Model Training\n",
    "- Choose Best Model"
   ]
  },
  {
   "cell_type": "markdown",
   "id": "f469e3e0",
   "metadata": {},
   "source": [
    "# 1) Problem Satement\n",
    "\n",
    "This project understands how the price of a laptop (Price) is affected by certain components such as RAM, Company, Type, Resolution, etc. Goal is to determine what constitutes to a laptop price in order to help students, gamers, coders and everyone to find the perfect laptop for their needs and budget. "
   ]
  },
  {
   "cell_type": "markdown",
   "id": "17d0b322",
   "metadata": {},
   "source": [
    "## Importing Pandas, Numpy, Matplotlib, Seaborn for EDA"
   ]
  },
  {
   "cell_type": "code",
   "execution_count": 1,
   "id": "c0a12612",
   "metadata": {},
   "outputs": [],
   "source": [
    "import pandas as pd\n",
    "import numpy as np\n",
    "import seaborn as sns\n",
    "import matplotlib.pyplot as plt\n",
    "\n",
    "import re"
   ]
  },
  {
   "cell_type": "markdown",
   "id": "45824913",
   "metadata": {},
   "source": [
    "# 2) Data Collection"
   ]
  },
  {
   "cell_type": "markdown",
   "id": "69a6a9a6",
   "metadata": {},
   "source": [
    "The Data was collected from webscraping laptop seller newegg.com. This was done via Beautiful Soup. For more information look at the newegg.py file on github.\n",
    "\n",
    "From the process of extracting the data, I had to create two tables"
   ]
  },
  {
   "cell_type": "code",
   "execution_count": 2,
   "id": "f493959a",
   "metadata": {},
   "outputs": [
    {
     "name": "stdout",
     "output_type": "stream",
     "text": [
      "/Users/joshuadionisio/0-Data Engineering/Laptop Predictor\n"
     ]
    }
   ],
   "source": [
    "import os\n",
    "\n",
    "print(os.getcwd())\n",
    "\n",
    "table_1path = '/Users/joshuadionisio/0-Data Engineering/Laptop Predictor/Table1'\n",
    "table_2path = '/Users/joshuadionisio/0-Data Engineering/Laptop Predictor/Table2'"
   ]
  },
  {
   "cell_type": "code",
   "execution_count": 3,
   "id": "818a3133",
   "metadata": {},
   "outputs": [
    {
     "data": {
      "text/plain": [
       "['batch2based.csv',\n",
       " 'microsoftpage3based.csv',\n",
       " 'microsoftpage2based.csv',\n",
       " 'twokpage2based.csv',\n",
       " 'twokpage3based.csv',\n",
       " 'dellpage4based.csv',\n",
       " 'dellpage5based.csv',\n",
       " 'onekpage14based.csv',\n",
       " 'new2based.csv',\n",
       " 'twokpg1based.csv',\n",
       " 'windows7_10based.csv',\n",
       " 'onekpage6based.csv',\n",
       " 'onekpage7based.csv',\n",
       " 'newpg7based.csv',\n",
       " 'fuckbased.csv',\n",
       " 'onekpage12based.csv',\n",
       " 'onekpage13based.csv',\n",
       " 'newpg9based.csv',\n",
       " 'onekpage5based.csv',\n",
       " 'onekpage4based.csv',\n",
       " 'windows_10page6based.csv',\n",
       " 'batch1based.csv',\n",
       " 'microsoftpage1based.csv',\n",
       " '.ipynb_checkpoints',\n",
       " 'dellpage1based.csv',\n",
       " 'onekpage11based.csv',\n",
       " 'onekpage10based.csv',\n",
       " 'onekpage2based.csv',\n",
       " 'onekpage3based.csv',\n",
       " 'sixhundredpage9based.csv',\n",
       " 'onekpage8based.csv',\n",
       " 'onekpage9based.csv',\n",
       " 'newpg4based.csv',\n",
       " 'newpg5based.csv']"
      ]
     },
     "execution_count": 3,
     "metadata": {},
     "output_type": "execute_result"
    }
   ],
   "source": [
    "os.listdir(table_2path)"
   ]
  },
  {
   "cell_type": "code",
   "execution_count": 4,
   "id": "2ac180ba",
   "metadata": {},
   "outputs": [],
   "source": [
    "csv = [file for file in os.listdir(table_1path) if file.endswith('.csv')]\n",
    "\n",
    "First_table = []  # Create an empty list to store the DataFrames\n",
    "\n",
    "for csv_file in csv:\n",
    "    file_path = os.path.join(table_1path, csv_file)\n",
    "    \n",
    "    # Try reading with different encodings until successful\n",
    "    encodings_to_try = ['utf-8', 'latin1', 'ISO-8859-1', 'cp1252']\n",
    "    for encoding in encodings_to_try:\n",
    "        try:\n",
    "            df = pd.read_csv(file_path, encoding=encoding)\n",
    "            break\n",
    "        except UnicodeDecodeError:\n",
    "            continue\n",
    "        except Exception as e:\n",
    "            print(f\"Error reading {csv_file}: {e}\")\n",
    "            break\n",
    "            \n",
    "    try:\n",
    "       # df = df.dropna()  # Drop rows with NaN values (optional)\n",
    "        First_table.append(df)  # Append the DataFrame to the list\n",
    "    except Exception as e:\n",
    "        print(f\"Error processing {csv_file}: {e}\")"
   ]
  },
  {
   "cell_type": "code",
   "execution_count": 5,
   "id": "018c3847",
   "metadata": {},
   "outputs": [],
   "source": [
    "csv = [file for file in os.listdir(table_2path) if file.endswith('.csv')]\n",
    "\n",
    "Second_table = []  # Create an empty list to store the DataFrames\n",
    "\n",
    "for csv_file in csv:\n",
    "    file_path = os.path.join(table_2path, csv_file)\n",
    "    \n",
    "    # Try reading with different encodings until successful\n",
    "    encodings_to_try = ['utf-8', 'latin1', 'ISO-8859-1', 'cp1252']\n",
    "    for encoding in encodings_to_try:\n",
    "        try:\n",
    "            df = pd.read_csv(file_path, encoding=encoding)\n",
    "            break\n",
    "        except UnicodeDecodeError:\n",
    "            continue\n",
    "        except Exception as e:\n",
    "            print(f\"Error reading {csv_file}: {e}\")\n",
    "            break\n",
    "            \n",
    "    try:\n",
    "     #   df = df.dropna()  # Drop rows with NaN values (optional)\n",
    "        Second_table.append(df)  # Append the DataFrame to the list\n",
    "    except Exception as e:\n",
    "        print(f\"Error processing {csv_file}: {e}\")"
   ]
  },
  {
   "cell_type": "code",
   "execution_count": 6,
   "id": "f20e43d6",
   "metadata": {},
   "outputs": [],
   "source": [
    "First_table_df = pd.concat(First_table, axis = 0)\n",
    "Second_table_df = pd.concat(Second_table, axis = 0)"
   ]
  },
  {
   "cell_type": "code",
   "execution_count": 7,
   "id": "64a7adbe",
   "metadata": {},
   "outputs": [
    {
     "data": {
      "text/html": [
       "<div>\n",
       "<style scoped>\n",
       "    .dataframe tbody tr th:only-of-type {\n",
       "        vertical-align: middle;\n",
       "    }\n",
       "\n",
       "    .dataframe tbody tr th {\n",
       "        vertical-align: top;\n",
       "    }\n",
       "\n",
       "    .dataframe thead th {\n",
       "        text-align: right;\n",
       "    }\n",
       "</style>\n",
       "<table border=\"1\" class=\"dataframe\">\n",
       "  <thead>\n",
       "    <tr style=\"text-align: right;\">\n",
       "      <th></th>\n",
       "      <th>price</th>\n",
       "      <th>type</th>\n",
       "      <th>link2</th>\n",
       "      <th>os</th>\n",
       "      <th>Ghz</th>\n",
       "      <th>Cpu</th>\n",
       "      <th>Ssd</th>\n",
       "      <th>graphics</th>\n",
       "      <th>ts_info</th>\n",
       "      <th>resolution</th>\n",
       "      <th>memory/ram</th>\n",
       "      <th>panel</th>\n",
       "    </tr>\n",
       "  </thead>\n",
       "  <tbody>\n",
       "    <tr>\n",
       "      <th>0</th>\n",
       "      <td>$259.99</td>\n",
       "      <td>NaN</td>\n",
       "      <td>https://www.newegg.com/p/2WC-006J-00008?cm_sp=...</td>\n",
       "      <td>Windows 11 Pro</td>\n",
       "      <td>13905H (2.60GHz)</td>\n",
       "      <td>Intel Celeron</td>\n",
       "      <td>512 GB</td>\n",
       "      <td>NaN</td>\n",
       "      <td>Yes</td>\n",
       "      <td>NaN</td>\n",
       "      <td>8GB</td>\n",
       "      <td>NaN</td>\n",
       "    </tr>\n",
       "    <tr>\n",
       "      <th>1</th>\n",
       "      <td>$1,849.99</td>\n",
       "      <td>Workstation</td>\n",
       "      <td>https://www.newegg.com/p/36B-000D-00BJ9?cm_sp=...</td>\n",
       "      <td>Windows 10 Pro</td>\n",
       "      <td>10750H (2.60GHz)</td>\n",
       "      <td>Intel Core i7 10th Gen</td>\n",
       "      <td>2 TB PCIe</td>\n",
       "      <td>NVIDIA GeForce GTX 1650 Ti</td>\n",
       "      <td>No</td>\n",
       "      <td>1920 x 1080</td>\n",
       "      <td>64GB</td>\n",
       "      <td>NaN</td>\n",
       "    </tr>\n",
       "    <tr>\n",
       "      <th>2</th>\n",
       "      <td>$1,068.99</td>\n",
       "      <td>Home / Personal</td>\n",
       "      <td>https://www.newegg.com/p/1TS-000X-04SA4?Item=9...</td>\n",
       "      <td>NaN</td>\n",
       "      <td>NaN</td>\n",
       "      <td>NaN</td>\n",
       "      <td>NaN</td>\n",
       "      <td>NaN</td>\n",
       "      <td>NaN</td>\n",
       "      <td>NaN</td>\n",
       "      <td>NaN</td>\n",
       "      <td>NaN</td>\n",
       "    </tr>\n",
       "  </tbody>\n",
       "</table>\n",
       "</div>"
      ],
      "text/plain": [
       "       price             type  \\\n",
       "0    $259.99              NaN   \n",
       "1  $1,849.99      Workstation   \n",
       "2  $1,068.99  Home / Personal   \n",
       "\n",
       "                                               link2              os  \\\n",
       "0  https://www.newegg.com/p/2WC-006J-00008?cm_sp=...  Windows 11 Pro   \n",
       "1  https://www.newegg.com/p/36B-000D-00BJ9?cm_sp=...  Windows 10 Pro   \n",
       "2  https://www.newegg.com/p/1TS-000X-04SA4?Item=9...             NaN   \n",
       "\n",
       "                Ghz                     Cpu        Ssd  \\\n",
       "0  13905H (2.60GHz)           Intel Celeron     512 GB   \n",
       "1  10750H (2.60GHz)  Intel Core i7 10th Gen  2 TB PCIe   \n",
       "2               NaN                     NaN        NaN   \n",
       "\n",
       "                     graphics ts_info   resolution memory/ram panel  \n",
       "0                         NaN     Yes          NaN        8GB   NaN  \n",
       "1  NVIDIA GeForce GTX 1650 Ti      No  1920 x 1080       64GB   NaN  \n",
       "2                         NaN     NaN          NaN        NaN   NaN  "
      ]
     },
     "execution_count": 7,
     "metadata": {},
     "output_type": "execute_result"
    }
   ],
   "source": [
    "First_table_df.head(3)"
   ]
  },
  {
   "cell_type": "code",
   "execution_count": 8,
   "id": "13f381c8",
   "metadata": {},
   "outputs": [
    {
     "data": {
      "text/html": [
       "<div>\n",
       "<style scoped>\n",
       "    .dataframe tbody tr th:only-of-type {\n",
       "        vertical-align: middle;\n",
       "    }\n",
       "\n",
       "    .dataframe tbody tr th {\n",
       "        vertical-align: top;\n",
       "    }\n",
       "\n",
       "    .dataframe thead th {\n",
       "        text-align: right;\n",
       "    }\n",
       "</style>\n",
       "<table border=\"1\" class=\"dataframe\">\n",
       "  <thead>\n",
       "    <tr style=\"text-align: right;\">\n",
       "      <th></th>\n",
       "      <th>Product_title</th>\n",
       "      <th>Brand</th>\n",
       "      <th>Links</th>\n",
       "    </tr>\n",
       "  </thead>\n",
       "  <tbody>\n",
       "    <tr>\n",
       "      <th>0</th>\n",
       "      <td>Lenovo ThinkPad T480s FHD (1920x1080) 14.0''Bu...</td>\n",
       "      <td>Lenovo</td>\n",
       "      <td>https://www.newegg.com/p/1TS-000E-17T86?cm_sp=...</td>\n",
       "    </tr>\n",
       "    <tr>\n",
       "      <th>1</th>\n",
       "      <td>Lenovo ThinkPad T480s FHD (1920x1080) 14.0''Bu...</td>\n",
       "      <td>Lenovo</td>\n",
       "      <td>https://www.newegg.com/p/1TS-000E-17T86?cm_sp=...</td>\n",
       "    </tr>\n",
       "    <tr>\n",
       "      <th>2</th>\n",
       "      <td>Lenovo ThinkPad T580 15.6'' FHD Business Lapto...</td>\n",
       "      <td>Lenovo</td>\n",
       "      <td>https://www.newegg.com/p/1TS-000E-17V90?cm_sp=...</td>\n",
       "    </tr>\n",
       "  </tbody>\n",
       "</table>\n",
       "</div>"
      ],
      "text/plain": [
       "                                       Product_title   Brand  \\\n",
       "0  Lenovo ThinkPad T480s FHD (1920x1080) 14.0''Bu...  Lenovo   \n",
       "1  Lenovo ThinkPad T480s FHD (1920x1080) 14.0''Bu...  Lenovo   \n",
       "2  Lenovo ThinkPad T580 15.6'' FHD Business Lapto...  Lenovo   \n",
       "\n",
       "                                               Links  \n",
       "0  https://www.newegg.com/p/1TS-000E-17T86?cm_sp=...  \n",
       "1  https://www.newegg.com/p/1TS-000E-17T86?cm_sp=...  \n",
       "2  https://www.newegg.com/p/1TS-000E-17V90?cm_sp=...  "
      ]
     },
     "execution_count": 8,
     "metadata": {},
     "output_type": "execute_result"
    }
   ],
   "source": [
    "Second_table_df.head(3)"
   ]
  },
  {
   "cell_type": "code",
   "execution_count": 9,
   "id": "3a502eb3",
   "metadata": {},
   "outputs": [],
   "source": [
    "laptopdf = pd.merge(First_table_df, Second_table_df, left_on = 'link2', right_on = 'Links', how ='inner')"
   ]
  },
  {
   "cell_type": "markdown",
   "id": "08023a96",
   "metadata": {},
   "source": [
    "## 3) Data Check"
   ]
  },
  {
   "cell_type": "code",
   "execution_count": 10,
   "id": "9ae267d1",
   "metadata": {},
   "outputs": [
    {
     "name": "stdout",
     "output_type": "stream",
     "text": [
      "Df shape before cleaning: (3597, 15)\n"
     ]
    }
   ],
   "source": [
    "print(\"Df shape before cleaning:\",laptopdf.shape)"
   ]
  },
  {
   "cell_type": "code",
   "execution_count": 11,
   "id": "ea36fe38",
   "metadata": {},
   "outputs": [
    {
     "data": {
      "text/plain": [
       "price            1684\n",
       "type             1541\n",
       "link2            1690\n",
       "os               1579\n",
       "Ghz              1568\n",
       "Cpu              1574\n",
       "Ssd              1579\n",
       "graphics         1401\n",
       "ts_info          1089\n",
       "resolution       1463\n",
       "memory/ram       1579\n",
       "panel             703\n",
       "Product_title    1690\n",
       "Brand            1690\n",
       "Links            1690\n",
       "dtype: int64"
      ]
     },
     "execution_count": 11,
     "metadata": {},
     "output_type": "execute_result"
    }
   ],
   "source": [
    "# Checking duplicates\n",
    "laptopdf[laptopdf.duplicated()].count()"
   ]
  },
  {
   "cell_type": "code",
   "execution_count": 12,
   "id": "00a9a94e",
   "metadata": {},
   "outputs": [],
   "source": [
    "df1 = laptopdf.drop_duplicates()"
   ]
  },
  {
   "cell_type": "code",
   "execution_count": 13,
   "id": "9f707535",
   "metadata": {},
   "outputs": [
    {
     "data": {
      "text/plain": [
       "price              12\n",
       "type              276\n",
       "link2               0\n",
       "os                540\n",
       "Ghz               593\n",
       "Cpu               553\n",
       "Ssd               544\n",
       "graphics          885\n",
       "ts_info           572\n",
       "resolution        643\n",
       "memory/ram        515\n",
       "panel            1561\n",
       "Product_title       0\n",
       "Brand               0\n",
       "Links               0\n",
       "dtype: int64"
      ]
     },
     "execution_count": 13,
     "metadata": {},
     "output_type": "execute_result"
    }
   ],
   "source": [
    "# Too many null values for panel, have to drop panel\n",
    "df1.isnull().sum()"
   ]
  },
  {
   "cell_type": "code",
   "execution_count": 14,
   "id": "1a665140",
   "metadata": {},
   "outputs": [
    {
     "name": "stderr",
     "output_type": "stream",
     "text": [
      "/var/folders/wt/bqhp8b191ylbfqk6tffwt56h0000gn/T/ipykernel_9314/301305735.py:2: SettingWithCopyWarning: \n",
      "A value is trying to be set on a copy of a slice from a DataFrame\n",
      "\n",
      "See the caveats in the documentation: https://pandas.pydata.org/pandas-docs/stable/user_guide/indexing.html#returning-a-view-versus-a-copy\n",
      "  df1.drop(columns = 'panel', inplace = True)\n"
     ]
    }
   ],
   "source": [
    "# Panel column has too many null values\n",
    "df1.drop(columns = 'panel', inplace = True)"
   ]
  },
  {
   "cell_type": "code",
   "execution_count": 15,
   "id": "86bce11e",
   "metadata": {},
   "outputs": [
    {
     "data": {
      "text/html": [
       "<div>\n",
       "<style scoped>\n",
       "    .dataframe tbody tr th:only-of-type {\n",
       "        vertical-align: middle;\n",
       "    }\n",
       "\n",
       "    .dataframe tbody tr th {\n",
       "        vertical-align: top;\n",
       "    }\n",
       "\n",
       "    .dataframe thead th {\n",
       "        text-align: right;\n",
       "    }\n",
       "</style>\n",
       "<table border=\"1\" class=\"dataframe\">\n",
       "  <thead>\n",
       "    <tr style=\"text-align: right;\">\n",
       "      <th></th>\n",
       "      <th>price</th>\n",
       "      <th>type</th>\n",
       "      <th>link2</th>\n",
       "      <th>os</th>\n",
       "      <th>Ghz</th>\n",
       "      <th>Cpu</th>\n",
       "      <th>Ssd</th>\n",
       "      <th>graphics</th>\n",
       "      <th>ts_info</th>\n",
       "      <th>resolution</th>\n",
       "      <th>memory/ram</th>\n",
       "      <th>Product_title</th>\n",
       "      <th>Brand</th>\n",
       "      <th>Links</th>\n",
       "    </tr>\n",
       "  </thead>\n",
       "  <tbody>\n",
       "    <tr>\n",
       "      <th>0</th>\n",
       "      <td>$259.99</td>\n",
       "      <td>NaN</td>\n",
       "      <td>https://www.newegg.com/p/2WC-006J-00008?cm_sp=...</td>\n",
       "      <td>Windows 11 Pro</td>\n",
       "      <td>13905H (2.60GHz)</td>\n",
       "      <td>Intel Celeron</td>\n",
       "      <td>512 GB</td>\n",
       "      <td>NaN</td>\n",
       "      <td>Yes</td>\n",
       "      <td>NaN</td>\n",
       "      <td>8GB</td>\n",
       "      <td>JOHNKANG Gaming Laptop 15.6 Inch, 7000mAh  8GB...</td>\n",
       "      <td>JOHNKANG</td>\n",
       "      <td>https://www.newegg.com/p/2WC-006J-00008?cm_sp=...</td>\n",
       "    </tr>\n",
       "    <tr>\n",
       "      <th>64</th>\n",
       "      <td>$1,849.99</td>\n",
       "      <td>Workstation</td>\n",
       "      <td>https://www.newegg.com/p/36B-000D-00BJ9?cm_sp=...</td>\n",
       "      <td>Windows 10 Pro</td>\n",
       "      <td>10750H (2.60GHz)</td>\n",
       "      <td>Intel Core i7 10th Gen</td>\n",
       "      <td>2 TB PCIe</td>\n",
       "      <td>NVIDIA GeForce GTX 1650 Ti</td>\n",
       "      <td>No</td>\n",
       "      <td>1920 x 1080</td>\n",
       "      <td>64GB</td>\n",
       "      <td>Lenovo ThinkPad X1 Extreme Gen 3 15.6\" FHD (In...</td>\n",
       "      <td>Lenovo</td>\n",
       "      <td>https://www.newegg.com/p/36B-000D-00BJ9?cm_sp=...</td>\n",
       "    </tr>\n",
       "    <tr>\n",
       "      <th>464</th>\n",
       "      <td>$1,068.99</td>\n",
       "      <td>Home / Personal</td>\n",
       "      <td>https://www.newegg.com/p/1TS-000X-04SA4?Item=9...</td>\n",
       "      <td>NaN</td>\n",
       "      <td>NaN</td>\n",
       "      <td>NaN</td>\n",
       "      <td>NaN</td>\n",
       "      <td>NaN</td>\n",
       "      <td>NaN</td>\n",
       "      <td>NaN</td>\n",
       "      <td>NaN</td>\n",
       "      <td>Acer Swift 3 OLED Intel Evo Thin &amp; Light Lapto...</td>\n",
       "      <td>Acer</td>\n",
       "      <td>https://www.newegg.com/p/1TS-000X-04SA4?Item=9...</td>\n",
       "    </tr>\n",
       "  </tbody>\n",
       "</table>\n",
       "</div>"
      ],
      "text/plain": [
       "         price             type  \\\n",
       "0      $259.99              NaN   \n",
       "64   $1,849.99      Workstation   \n",
       "464  $1,068.99  Home / Personal   \n",
       "\n",
       "                                                 link2              os  \\\n",
       "0    https://www.newegg.com/p/2WC-006J-00008?cm_sp=...  Windows 11 Pro   \n",
       "64   https://www.newegg.com/p/36B-000D-00BJ9?cm_sp=...  Windows 10 Pro   \n",
       "464  https://www.newegg.com/p/1TS-000X-04SA4?Item=9...             NaN   \n",
       "\n",
       "                  Ghz                     Cpu        Ssd  \\\n",
       "0    13905H (2.60GHz)           Intel Celeron     512 GB   \n",
       "64   10750H (2.60GHz)  Intel Core i7 10th Gen  2 TB PCIe   \n",
       "464               NaN                     NaN        NaN   \n",
       "\n",
       "                       graphics ts_info   resolution memory/ram  \\\n",
       "0                           NaN     Yes          NaN        8GB   \n",
       "64   NVIDIA GeForce GTX 1650 Ti      No  1920 x 1080       64GB   \n",
       "464                         NaN     NaN          NaN        NaN   \n",
       "\n",
       "                                         Product_title     Brand  \\\n",
       "0    JOHNKANG Gaming Laptop 15.6 Inch, 7000mAh  8GB...  JOHNKANG   \n",
       "64   Lenovo ThinkPad X1 Extreme Gen 3 15.6\" FHD (In...    Lenovo   \n",
       "464  Acer Swift 3 OLED Intel Evo Thin & Light Lapto...      Acer   \n",
       "\n",
       "                                                 Links  \n",
       "0    https://www.newegg.com/p/2WC-006J-00008?cm_sp=...  \n",
       "64   https://www.newegg.com/p/36B-000D-00BJ9?cm_sp=...  \n",
       "464  https://www.newegg.com/p/1TS-000X-04SA4?Item=9...  "
      ]
     },
     "execution_count": 15,
     "metadata": {},
     "output_type": "execute_result"
    }
   ],
   "source": [
    "df1.head(3)"
   ]
  },
  {
   "cell_type": "code",
   "execution_count": 16,
   "id": "5618b601",
   "metadata": {},
   "outputs": [
    {
     "name": "stderr",
     "output_type": "stream",
     "text": [
      "/var/folders/wt/bqhp8b191ylbfqk6tffwt56h0000gn/T/ipykernel_9314/3743199430.py:2: SettingWithCopyWarning: \n",
      "A value is trying to be set on a copy of a slice from a DataFrame\n",
      "\n",
      "See the caveats in the documentation: https://pandas.pydata.org/pandas-docs/stable/user_guide/indexing.html#returning-a-view-versus-a-copy\n",
      "  df_cleaned = df1.drop(columns = ['link2', 'Links', 'Product_title'], inplace = True)\n"
     ]
    }
   ],
   "source": [
    "# dropping the link2, Product_title, Links column\n",
    "df_cleaned = df1.drop(columns = ['link2', 'Links', 'Product_title'], inplace = True)"
   ]
  },
  {
   "cell_type": "code",
   "execution_count": 17,
   "id": "be34eead",
   "metadata": {},
   "outputs": [],
   "source": [
    "# Creating a threshold of dropping coulmns with more than two nulls values\n",
    "df_cleaned = df1.dropna(thresh=df1.shape[1]-2)"
   ]
  },
  {
   "cell_type": "code",
   "execution_count": 18,
   "id": "62627f26",
   "metadata": {},
   "outputs": [
    {
     "data": {
      "text/plain": [
       "price           7\n",
       "type           89\n",
       "os              5\n",
       "Ghz            27\n",
       "Cpu             3\n",
       "Ssd             5\n",
       "graphics      281\n",
       "ts_info        36\n",
       "resolution     71\n",
       "memory/ram      1\n",
       "Brand           0\n",
       "dtype: int64"
      ]
     },
     "execution_count": 18,
     "metadata": {},
     "output_type": "execute_result"
    }
   ],
   "source": [
    "df_cleaned.isnull().sum()"
   ]
  },
  {
   "cell_type": "code",
   "execution_count": 19,
   "id": "6b1f76e0",
   "metadata": {},
   "outputs": [
    {
     "data": {
      "text/plain": [
       "(1291, 11)"
      ]
     },
     "execution_count": 19,
     "metadata": {},
     "output_type": "execute_result"
    }
   ],
   "source": [
    "df_cleaned.shape"
   ]
  },
  {
   "cell_type": "code",
   "execution_count": 20,
   "id": "f1da122e",
   "metadata": {},
   "outputs": [],
   "source": [
    "df_cleaned = df_cleaned.dropna()"
   ]
  },
  {
   "cell_type": "code",
   "execution_count": 21,
   "id": "e2639414",
   "metadata": {},
   "outputs": [
    {
     "name": "stdout",
     "output_type": "stream",
     "text": [
      "The number of unique values for the price column is 465\n",
      "The number of unique values for the type column is 17\n",
      "The number of unique values for the os column is 32\n",
      "The number of unique values for the Ghz column is 117\n",
      "The number of unique values for the Cpu column is 48\n",
      "The number of unique values for the Ssd column is 24\n",
      "The number of unique values for the graphics column is 132\n",
      "The number of unique values for the ts_info column is 8\n",
      "The number of unique values for the resolution column is 31\n",
      "The number of unique values for the memory/ram column is 49\n",
      "The number of unique values for the Brand column is 28\n"
     ]
    }
   ],
   "source": [
    "for x in df_cleaned.columns:\n",
    "    print('The number of unique values for the {} column is {}'.format(x,df_cleaned[x].nunique()))"
   ]
  },
  {
   "cell_type": "markdown",
   "id": "6081b554",
   "metadata": {},
   "source": [
    "## Cleaning the price column"
   ]
  },
  {
   "cell_type": "code",
   "execution_count": 22,
   "id": "35b4f6a9",
   "metadata": {},
   "outputs": [
    {
     "name": "stderr",
     "output_type": "stream",
     "text": [
      "/var/folders/wt/bqhp8b191ylbfqk6tffwt56h0000gn/T/ipykernel_9314/3699034561.py:1: FutureWarning: The default value of regex will change from True to False in a future version. In addition, single character regular expressions will *not* be treated as literal strings when regex=True.\n",
      "  df_cleaned['price'] = df_cleaned['price'].str.replace('$','')\n"
     ]
    }
   ],
   "source": [
    "df_cleaned['price'] = df_cleaned['price'].str.replace('$','')"
   ]
  },
  {
   "cell_type": "code",
   "execution_count": 23,
   "id": "8db1f176",
   "metadata": {},
   "outputs": [],
   "source": [
    "df_cleaned['price'] = df_cleaned['price'].str.replace(',','')"
   ]
  },
  {
   "cell_type": "code",
   "execution_count": 24,
   "id": "77e1fba3",
   "metadata": {},
   "outputs": [],
   "source": [
    "df_cleaned['price'] = df_cleaned['price'].astype('float')"
   ]
  },
  {
   "cell_type": "code",
   "execution_count": 25,
   "id": "075983b4",
   "metadata": {},
   "outputs": [],
   "source": [
    "# df_cleaned = df_cleaned[df_cleaned['price'] < 3000]"
   ]
  },
  {
   "cell_type": "markdown",
   "id": "c681a4f3",
   "metadata": {},
   "source": [
    "## Brand"
   ]
  },
  {
   "cell_type": "code",
   "execution_count": 26,
   "id": "5e3c97cf",
   "metadata": {},
   "outputs": [
    {
     "data": {
      "text/plain": [
       "ASUS           182\n",
       "MSI            154\n",
       "Acer           133\n",
       "Dell           105\n",
       "Microsoft       99\n",
       "Lenovo          83\n",
       "HP              64\n",
       "Newest          10\n",
       "GIGABYTE         9\n",
       "Razer            7\n",
       "*OPEN            7\n",
       "2023             7\n",
       "LG               4\n",
       "Brand            3\n",
       "Aorus            3\n",
       "Intel            3\n",
       "[2022]           2\n",
       "Refurbished      2\n",
       "Colorful         2\n",
       "[2023]           2\n",
       "DELL             1\n",
       "ROG              1\n",
       "Used             1\n",
       "2022             1\n",
       "Corsair          1\n",
       "New              1\n",
       "13th             1\n",
       "2021             1\n",
       "Name: Brand, dtype: int64"
      ]
     },
     "execution_count": 26,
     "metadata": {},
     "output_type": "execute_result"
    }
   ],
   "source": [
    "df_cleaned['Brand'].value_counts()"
   ]
  },
  {
   "cell_type": "code",
   "execution_count": 27,
   "id": "3b6652d4",
   "metadata": {},
   "outputs": [
    {
     "data": {
      "text/plain": [
       "(827, 11)"
      ]
     },
     "execution_count": 27,
     "metadata": {},
     "output_type": "execute_result"
    }
   ],
   "source": [
    "Brands = ['ASUS', 'MSI', 'Acer', 'Lenovo', 'HP', 'Dell','Microsoft', 'Razer']\n",
    "df_cleaned = df_cleaned[df_cleaned['Brand'].isin(Brands)]\n",
    "\n",
    "df_cleaned.shape"
   ]
  },
  {
   "cell_type": "code",
   "execution_count": 28,
   "id": "278da254",
   "metadata": {},
   "outputs": [
    {
     "data": {
      "text/plain": [
       "ASUS         182\n",
       "MSI          154\n",
       "Acer         133\n",
       "Dell         105\n",
       "Microsoft     99\n",
       "Lenovo        83\n",
       "HP            64\n",
       "Razer          7\n",
       "Name: Brand, dtype: int64"
      ]
     },
     "execution_count": 28,
     "metadata": {},
     "output_type": "execute_result"
    }
   ],
   "source": [
    "df_cleaned['Brand'].value_counts()"
   ]
  },
  {
   "cell_type": "markdown",
   "id": "0785e9d9",
   "metadata": {},
   "source": [
    "## Cleaning os column"
   ]
  },
  {
   "cell_type": "code",
   "execution_count": 29,
   "id": "774d3f25",
   "metadata": {},
   "outputs": [
    {
     "data": {
      "text/plain": [
       "array(['Windows 10 Pro',\n",
       "       'Windows 10 Home🙋\\u200d♀️Microsoft Windows 11 Pro Upgrade\\u200d👉Check ABS/Helix computers with Windows 11',\n",
       "       'Windows 10 Pro 64-bit', 'Windows 11 Pro',\n",
       "       'Windows 11 Home 64-bit', 'Windows 11 Home',\n",
       "       'Windows 11 DG Windows 10 Pro 64',\n",
       "       'Windows 10 Home 64-bit🙋\\u200d♀️Microsoft Windows 11 Pro Upgrade\\u200d👉Check ABS/Helix computers with Windows 11\\u200d👉Check gaming pc with Windows 11 Pro',\n",
       "       'Windows 10 Home🙋\\u200d♀️Microsoft Windows 11 Pro Upgrade\\u200d👉Check ABS/Helix computers with Windows 11\\u200d👉Check gaming pc with Windows 11 Pro',\n",
       "       'Windows 10 Pro\\u200d👉Check gaming pc with Windows 11 Pro',\n",
       "       'Windows 11 Pro 64-bit',\n",
       "       'Windows 10 Home 64-bit🙋\\u200d♀️Microsoft Windows 11 Pro Upgrade\\u200d👉Check ABS/Helix computers with Windows 11',\n",
       "       'Windows 10 Pro (available through downgrade rights from Windows 11 Pro)',\n",
       "       'Freedos', 'Windows 10',\n",
       "       'Windows 10 Pro 64-bit (Free upgrade to Win 11)',\n",
       "       'Microsoft® Windows 10 Home (64 bit)🙋\\u200d♀️Microsoft Windows 11 Pro Upgrade\\u200d👉Check ABS/Helix computers with Windows 11',\n",
       "       'Windows 10 Home 64-bit (Free upgrade to Win 11)🙋\\u200d♀️Microsoft Windows 11 Pro Upgrade\\u200d👉Check ABS/Helix computers with Windows 11\\u200d👉Check gaming pc with Windows 11 Pro',\n",
       "       'Windows 10 Home 64-bit (Free upgrade to Win 11)🙋\\u200d♀️Microsoft Windows 11 Pro Upgrade\\u200d👉Check ABS/Helix computers with Windows 11',\n",
       "       'Windows 11 Pro (preinstalled with Windows 10 Pro Downgrade)',\n",
       "       'Windows 11 in S mode', 'No',\n",
       "       'Windows 10 Pro (available through DG rights from Windows 11 Pro)',\n",
       "       'Windows 10 Pro 64-bit\\u200d👉Check gaming pc with Windows 11 Pro',\n",
       "       'Windows 10 Pro 64-Bit', 'Windows 10 in S mode',\n",
       "       'Windows 11 Home in S mode',\n",
       "       'Windows 10 Home (Free upgrade to Win 11)🙋\\u200d♀️Microsoft Windows 11 Pro Upgrade\\u200d👉Check ABS/Helix computers with Windows 11',\n",
       "       'Windows 10 Home 64-Bit🙋\\u200d♀️Microsoft Windows 11 Pro Upgrade\\u200d👉Check ABS/Helix computers with Windows 11',\n",
       "       'Windows 10 Home 64-bit (Free Upgrade to Win 11)🙋\\u200d♀️Microsoft Windows 11 Pro Upgrade\\u200d👉Check ABS/Helix computers with Windows 11\\u200d👉Check gaming pc with Windows 11 Pro',\n",
       "       'Windows 10 Home 64-Bit🙋\\u200d♀️Microsoft Windows 11 Pro Upgrade\\u200d👉Check ABS/Helix computers with Windows 11\\u200d👉Check gaming pc with Windows 11 Pro'],\n",
       "      dtype=object)"
      ]
     },
     "execution_count": 29,
     "metadata": {},
     "output_type": "execute_result"
    }
   ],
   "source": [
    "df_cleaned['os'].unique()"
   ]
  },
  {
   "cell_type": "code",
   "execution_count": 30,
   "id": "509d92f7",
   "metadata": {},
   "outputs": [],
   "source": [
    "# We can generalize all the windows in to a shared \n",
    "\n",
    "# Looking off research, Pro, Home \n",
    "# There will be collinearity with Pro, Home with \n",
    "\n",
    "# Getting an error with the .split recognizing some of the rows as a float value. We we set the column to a string\n",
    "# property\n",
    "df_cleaned['os']= df_cleaned['os'].astype('str')\n",
    "df_cleaned['os'] = df_cleaned['os'].apply(lambda x: x.split()[0:3])\n"
   ]
  },
  {
   "cell_type": "code",
   "execution_count": 31,
   "id": "9ac124cf",
   "metadata": {},
   "outputs": [
    {
     "data": {
      "text/plain": [
       "64                    [Windows, 10, Pro]\n",
       "468     [Windows, 10, Home🙋‍♀️Microsoft]\n",
       "469     [Windows, 10, Home🙋‍♀️Microsoft]\n",
       "473                   [Windows, 10, Pro]\n",
       "475                   [Windows, 10, Pro]\n",
       "                      ...               \n",
       "3591                  [Windows, 11, Pro]\n",
       "3592                  [Windows, 11, Pro]\n",
       "3593                  [Windows, 11, Pro]\n",
       "3594                  [Windows, 11, Pro]\n",
       "3595                 [Windows, 11, Home]\n",
       "Name: os, Length: 827, dtype: object"
      ]
     },
     "execution_count": 31,
     "metadata": {},
     "output_type": "execute_result"
    }
   ],
   "source": [
    "df_cleaned['os']"
   ]
  },
  {
   "cell_type": "code",
   "execution_count": 32,
   "id": "61eb1425",
   "metadata": {},
   "outputs": [],
   "source": [
    "df_cleaned['os'] = df_cleaned['os'].apply(lambda x: ' '.join(x[0:2]))"
   ]
  },
  {
   "cell_type": "code",
   "execution_count": 33,
   "id": "46f9b8ca",
   "metadata": {
    "scrolled": true
   },
   "outputs": [
    {
     "data": {
      "text/plain": [
       "Windows 11            520\n",
       "Windows 10            304\n",
       "Freedos                 1\n",
       "Microsoft® Windows      1\n",
       "No                      1\n",
       "Name: os, dtype: int64"
      ]
     },
     "execution_count": 33,
     "metadata": {},
     "output_type": "execute_result"
    }
   ],
   "source": [
    "# Majority of the data comprises of just Windows 11/10\n",
    "df_cleaned['os'].value_counts()"
   ]
  },
  {
   "cell_type": "code",
   "execution_count": 34,
   "id": "112cb6fa",
   "metadata": {},
   "outputs": [],
   "source": [
    "# Properties of loc, [row, column]\n",
    "\n",
    "df_cleaned.loc[df_cleaned['os'] == 'Windows 10,','os'] = 'Windows 10'\n",
    "df_cleaned.loc[df_cleaned['os'] == 'Windows® 11','os'] = 'Windows 10'\n",
    "\n"
   ]
  },
  {
   "cell_type": "code",
   "execution_count": 35,
   "id": "73868e70",
   "metadata": {},
   "outputs": [],
   "source": [
    "df_cleaned = df_cleaned[df_cleaned['os'].isin(['Windows 11', 'Windows 10'])]"
   ]
  },
  {
   "cell_type": "code",
   "execution_count": 36,
   "id": "6d92df58",
   "metadata": {},
   "outputs": [
    {
     "data": {
      "text/plain": [
       "array(['Windows 10', 'Windows 11'], dtype=object)"
      ]
     },
     "execution_count": 36,
     "metadata": {},
     "output_type": "execute_result"
    }
   ],
   "source": [
    "df_cleaned['os'].unique()"
   ]
  },
  {
   "cell_type": "code",
   "execution_count": 37,
   "id": "5bf159c5",
   "metadata": {},
   "outputs": [],
   "source": [
    "df_cleaned['os'] = pd.Categorical(df_cleaned['os'], categories = ['Windows 10','Windows 11'])"
   ]
  },
  {
   "cell_type": "markdown",
   "id": "599551de",
   "metadata": {},
   "source": [
    "## Cleaning Ghz column"
   ]
  },
  {
   "cell_type": "code",
   "execution_count": 38,
   "id": "855b829d",
   "metadata": {},
   "outputs": [
    {
     "data": {
      "text/plain": [
       "array(['10750H (2.60GHz)', '11800H (2.30GHz)', '12450H (2.00GHz)',\n",
       "       '1.3 GHz', '1165G7 (2.80GHz)', '5625U (2.30GHz)',\n",
       "       '1255U (1.70GHz)', '1265U (1.80GHz)', '7640HS (4.30GHz)',\n",
       "       '6800H (3.20GHz)', '12700H (2.30GHz)', '1270P (2.20GHz)',\n",
       "       '2.80GHz', '1260P (2.10GHz)', '2.10GHz', '10300H (2.50GHz)',\n",
       "       '2.50GHz', '3.33GHz', '2.90GHz', '2.30GHz', '2.40GHz', '3.20GHz',\n",
       "       '3.00GHz', '11400H (2.70GHz)', '6650U (2.90GHz)',\n",
       "       '5800HS (2.80GHz)', '1195G7 (2.90GHz)', '6600H (3.30GHz)',\n",
       "       '4800H (2.90GHz)', '1135G7 (2.40GHz)', '5825U (2.00GHz)',\n",
       "       '10500H (2.50GHz)', '1185G7 (3.00GHz)', '1235U (1.30GHz)',\n",
       "       '5700U (1.80GHz)', '12650H (2.30GHz)', '2.60GHz',\n",
       "       '5800H (3.20GHz)', '12900H (2.50GHz)', '1240P (1.70GHz)',\n",
       "       '6900HX (3.30GHz)', '5675U (2.30GHz)', '1.60GHz',\n",
       "       '1145G7 (2.60GHz)', '1065G7 (1.30GHz)', '1245U (1.60GHz)',\n",
       "       '4600U (2.10GHz)', '1.80GHz', '13900H (2.60GHz)',\n",
       "       '13620H (2.40GHz)', '11900H (2.50GHz)', '13900HX (2.20GHz)',\n",
       "       '1155G7 (2.50GHz)', '13950HX (2.20GHz)', '11370H (3.30GHz)',\n",
       "       '1355U (1.70GHz)', '7735HS (3.20GHz)', '1360P (2.20GHz)',\n",
       "       '1335U (1.30GHz)', '1115G4 (3.00GHz)', 'N6000 (1.10GHz)',\n",
       "       '7840HS (3.80GHz)', '13700H (2.40GHz)', '3500U (2.10GHz)',\n",
       "       '7530U (2.00GHz)', '12500H (2.50GHz)', '13800H (2.50GHz)',\n",
       "       'N4020 (1.10GHz)', '3250U (2.60GHz)', '5900HX (3.30GHz)',\n",
       "       '4600H (3.00GHz)', '13980HX (2.20GHz)', '5600H (3.30GHz)',\n",
       "       '7535HS (3.30GHz)', '8650U (1.90GHz)', '8350U (1.70GHz)',\n",
       "       '7940HS (4.00GHz)', '7730U (2.00GHz)', '5900HS (3.00GHz)',\n",
       "       '13500H (2.60GHz)', '1035G1 (1.00GHz)', '6900HS (3.30GHz)',\n",
       "       '5500U (2.10GHz)', '10210U (1.60GHz)', '11300H (3.10 GHz)',\n",
       "       '1.00GHz', '2.70GHz', '3200U (2.60GHz)', '1005G1 (1.20GHz)',\n",
       "       '6300U (2.40GHz)', '3780U (2.30GHz)', '7660U (2.50GHz)',\n",
       "       '4980U (2.00GHz)', '8100Y (1.10GHz)', '1035G7 (1.20GHz)',\n",
       "       '10100Y (1.30 GHz)', '6650U (2.20GHz)', '4415Y (1.60GHz)',\n",
       "       '4680U (2.20GHz)', '6500Y (1.10 GHz)', '9300H (2.40GHz)',\n",
       "       '10875H (2.30GHz)', '7300HQ (2.50GHz)', '2.20GHz', '2.50 GHz',\n",
       "       '7945HX (2.50GHz)', '5980HS (3.00GHz)', '5980HX (3.30GHz)',\n",
       "       '12900HX (2.30GHz)', '13700HX (2.10GHz)', '13905H (2.60GHz)'],\n",
       "      dtype=object)"
      ]
     },
     "execution_count": 38,
     "metadata": {},
     "output_type": "execute_result"
    }
   ],
   "source": [
    "df_cleaned['Ghz'].unique()"
   ]
  },
  {
   "cell_type": "code",
   "execution_count": 39,
   "id": "9859547a",
   "metadata": {},
   "outputs": [
    {
     "data": {
      "text/plain": [
       "824"
      ]
     },
     "execution_count": 39,
     "metadata": {},
     "output_type": "execute_result"
    }
   ],
   "source": [
    "df_cleaned['Ghz'].value_counts().sum()"
   ]
  },
  {
   "cell_type": "code",
   "execution_count": 40,
   "id": "6542c9ea",
   "metadata": {},
   "outputs": [],
   "source": [
    "# Goal is to extract whats inside the parantheses\n",
    "df_cleaned['Ghz'] = df_cleaned['Ghz'].astype(str)"
   ]
  },
  {
   "cell_type": "code",
   "execution_count": 41,
   "id": "1339dbda",
   "metadata": {},
   "outputs": [
    {
     "data": {
      "text/plain": [
       "dtype('O')"
      ]
     },
     "execution_count": 41,
     "metadata": {},
     "output_type": "execute_result"
    }
   ],
   "source": [
    "df_cleaned.Ghz.dtype\n"
   ]
  },
  {
   "cell_type": "code",
   "execution_count": 42,
   "id": "5db89f94",
   "metadata": {},
   "outputs": [],
   "source": [
    "def extract_ghz(text):\n",
    "    pattern = r'\\((\\d+\\.\\d+)\\s*GHz\\)'  # Regular expression to match GHz inside parentheses\n",
    "    match = re.search(pattern, text)\n",
    "    if match:\n",
    "        return match.group(1)  # Extract the GHz value from the matched group\n",
    "    else:\n",
    "        return text  # Return the original text if no GHz value found in parentheses\n",
    "\n",
    "df_cleaned['Ghz'] = df_cleaned['Ghz'].apply(extract_ghz)\n"
   ]
  },
  {
   "cell_type": "code",
   "execution_count": 43,
   "id": "9ce68c57",
   "metadata": {},
   "outputs": [],
   "source": [
    "def extract_float(text):\n",
    "    pattern = r'(\\d+\\.\\d+)'  # Regular expression to match a float number\n",
    "    match = re.search(pattern, text)\n",
    "    if match:\n",
    "        return float(match.group(1))  # Convert the matched float value to a float type\n",
    "    else:\n",
    "        return None  # Return None if no float value found in the string\n",
    "\n",
    "df_cleaned['Ghz'] = df_cleaned['Ghz'].apply(extract_float)"
   ]
  },
  {
   "cell_type": "code",
   "execution_count": 44,
   "id": "549c5d0b",
   "metadata": {},
   "outputs": [
    {
     "data": {
      "text/plain": [
       "824"
      ]
     },
     "execution_count": 44,
     "metadata": {},
     "output_type": "execute_result"
    }
   ],
   "source": [
    "df_cleaned['Ghz'].value_counts().sum()"
   ]
  },
  {
   "cell_type": "code",
   "execution_count": 45,
   "id": "8ac4fa1e",
   "metadata": {},
   "outputs": [],
   "source": [
    "df_cleaned['Ghz'] = df_cleaned['Ghz'].astype('float')"
   ]
  },
  {
   "cell_type": "markdown",
   "id": "e8497611",
   "metadata": {},
   "source": [
    "## Cleaning SSD column"
   ]
  },
  {
   "cell_type": "code",
   "execution_count": 46,
   "id": "32e5d258",
   "metadata": {},
   "outputs": [
    {
     "data": {
      "text/plain": [
       "array(['2 TB PCIe', '512 GB', '1 TB PCIe', '2 TB', '1 TB', '512 GB PCIe',\n",
       "       '4 TB', '256 GB', '256 GB PCIe', '512 GB NVMe', '1 TB NVMe',\n",
       "       '128 GB', '512GB NVMe', '128 GB NVMe', '4 TB NVMe( 2TB x 2)',\n",
       "       '1 TB NVMe SSD', '512 GB NVMe SSD', '2 TB NVMe', '64 GB eMMC',\n",
       "       '4 TB PCIe', '1TB NVMe'], dtype=object)"
      ]
     },
     "execution_count": 46,
     "metadata": {},
     "output_type": "execute_result"
    }
   ],
   "source": [
    "df_cleaned['Ssd'].unique()"
   ]
  },
  {
   "cell_type": "code",
   "execution_count": 47,
   "id": "9c29cc8c",
   "metadata": {},
   "outputs": [],
   "source": [
    "df_cleaned['Ssd'] = df_cleaned['Ssd'].astype('str')"
   ]
  },
  {
   "cell_type": "code",
   "execution_count": 48,
   "id": "82c5d000",
   "metadata": {},
   "outputs": [],
   "source": [
    "df_cleaned['Ssd'] = df_cleaned['Ssd'].apply(lambda x: x.split() if pd.notna(x) else x)"
   ]
  },
  {
   "cell_type": "code",
   "execution_count": 49,
   "id": "f2237e4d",
   "metadata": {},
   "outputs": [
    {
     "data": {
      "text/html": [
       "<div>\n",
       "<style scoped>\n",
       "    .dataframe tbody tr th:only-of-type {\n",
       "        vertical-align: middle;\n",
       "    }\n",
       "\n",
       "    .dataframe tbody tr th {\n",
       "        vertical-align: top;\n",
       "    }\n",
       "\n",
       "    .dataframe thead th {\n",
       "        text-align: right;\n",
       "    }\n",
       "</style>\n",
       "<table border=\"1\" class=\"dataframe\">\n",
       "  <thead>\n",
       "    <tr style=\"text-align: right;\">\n",
       "      <th></th>\n",
       "      <th>price</th>\n",
       "      <th>type</th>\n",
       "      <th>os</th>\n",
       "      <th>Ghz</th>\n",
       "      <th>Cpu</th>\n",
       "      <th>Ssd</th>\n",
       "      <th>graphics</th>\n",
       "      <th>ts_info</th>\n",
       "      <th>resolution</th>\n",
       "      <th>memory/ram</th>\n",
       "      <th>Brand</th>\n",
       "    </tr>\n",
       "  </thead>\n",
       "  <tbody>\n",
       "    <tr>\n",
       "      <th>64</th>\n",
       "      <td>1849.99</td>\n",
       "      <td>Workstation</td>\n",
       "      <td>Windows 10</td>\n",
       "      <td>2.6</td>\n",
       "      <td>Intel Core i7 10th Gen</td>\n",
       "      <td>[2, TB, PCIe]</td>\n",
       "      <td>NVIDIA GeForce GTX 1650 Ti</td>\n",
       "      <td>No</td>\n",
       "      <td>1920 x 1080</td>\n",
       "      <td>64GB</td>\n",
       "      <td>Lenovo</td>\n",
       "    </tr>\n",
       "    <tr>\n",
       "      <th>468</th>\n",
       "      <td>1125.00</td>\n",
       "      <td>Mainstream</td>\n",
       "      <td>Windows 10</td>\n",
       "      <td>2.3</td>\n",
       "      <td>Intel Core i7 11th Gen</td>\n",
       "      <td>[512, GB]</td>\n",
       "      <td>NVIDIA GeForce RTX 3050ti Graphics 4GB GDDR6</td>\n",
       "      <td>No</td>\n",
       "      <td>1920 x 1080</td>\n",
       "      <td>16GB DDR4</td>\n",
       "      <td>MSI</td>\n",
       "    </tr>\n",
       "    <tr>\n",
       "      <th>469</th>\n",
       "      <td>1149.99</td>\n",
       "      <td>Mainstream</td>\n",
       "      <td>Windows 10</td>\n",
       "      <td>2.3</td>\n",
       "      <td>Intel Core i7 11th Gen</td>\n",
       "      <td>[512, GB]</td>\n",
       "      <td>NVIDIA GeForce RTX 3050ti Graphics 4GB GDDR6</td>\n",
       "      <td>No</td>\n",
       "      <td>1920 x 1080</td>\n",
       "      <td>32GB DDR4</td>\n",
       "      <td>MSI</td>\n",
       "    </tr>\n",
       "    <tr>\n",
       "      <th>473</th>\n",
       "      <td>1699.97</td>\n",
       "      <td>Content Creation</td>\n",
       "      <td>Windows 10</td>\n",
       "      <td>2.3</td>\n",
       "      <td>Intel Core i7 11th Gen</td>\n",
       "      <td>[1, TB, PCIe]</td>\n",
       "      <td>NVIDIA GeForce RTX 3060 Laptop GPU</td>\n",
       "      <td>No</td>\n",
       "      <td>3072 x 1920</td>\n",
       "      <td>16 GB DDR4</td>\n",
       "      <td>Acer</td>\n",
       "    </tr>\n",
       "    <tr>\n",
       "      <th>475</th>\n",
       "      <td>1099.00</td>\n",
       "      <td>Gaming</td>\n",
       "      <td>Windows 10</td>\n",
       "      <td>2.0</td>\n",
       "      <td>Intel Core i5 12th Gen</td>\n",
       "      <td>[2, TB]</td>\n",
       "      <td>NVIDIA GeForce GTX 1650</td>\n",
       "      <td>No</td>\n",
       "      <td>1920 x 1080</td>\n",
       "      <td>64GB</td>\n",
       "      <td>HP</td>\n",
       "    </tr>\n",
       "    <tr>\n",
       "      <th>...</th>\n",
       "      <td>...</td>\n",
       "      <td>...</td>\n",
       "      <td>...</td>\n",
       "      <td>...</td>\n",
       "      <td>...</td>\n",
       "      <td>...</td>\n",
       "      <td>...</td>\n",
       "      <td>...</td>\n",
       "      <td>...</td>\n",
       "      <td>...</td>\n",
       "      <td>...</td>\n",
       "    </tr>\n",
       "    <tr>\n",
       "      <th>3591</th>\n",
       "      <td>3799.00</td>\n",
       "      <td>Gaming</td>\n",
       "      <td>Windows 11</td>\n",
       "      <td>2.2</td>\n",
       "      <td>Intel Core i9 13th Gen</td>\n",
       "      <td>[2, TB, NVMe]</td>\n",
       "      <td>NVIDIA GeForce RTX 4090 Laptop GPU</td>\n",
       "      <td>No</td>\n",
       "      <td>2560 x 1600</td>\n",
       "      <td>32 GB DDR5</td>\n",
       "      <td>MSI</td>\n",
       "    </tr>\n",
       "    <tr>\n",
       "      <th>3592</th>\n",
       "      <td>2107.29</td>\n",
       "      <td>Work / Business</td>\n",
       "      <td>Windows 11</td>\n",
       "      <td>2.4</td>\n",
       "      <td>Intel Core i7 13th Gen</td>\n",
       "      <td>[2, TB, PCIe]</td>\n",
       "      <td>NVIDIA GeForce RTX 4060 Laptop GPU</td>\n",
       "      <td>No</td>\n",
       "      <td>2560 x 1600</td>\n",
       "      <td>32 GB LPDDR5</td>\n",
       "      <td>MSI</td>\n",
       "    </tr>\n",
       "    <tr>\n",
       "      <th>3593</th>\n",
       "      <td>2117.72</td>\n",
       "      <td>Work / Business</td>\n",
       "      <td>Windows 11</td>\n",
       "      <td>2.2</td>\n",
       "      <td>Intel Core i7 13th Gen</td>\n",
       "      <td>[1, TB, PCIe]</td>\n",
       "      <td>NVIDIA GeForce RTX 4050 Laptop GPU</td>\n",
       "      <td>Yes</td>\n",
       "      <td>2560 x 1600</td>\n",
       "      <td>32 GB LPDDR5</td>\n",
       "      <td>MSI</td>\n",
       "    </tr>\n",
       "    <tr>\n",
       "      <th>3594</th>\n",
       "      <td>2247.02</td>\n",
       "      <td>Content Creation / Work / Business</td>\n",
       "      <td>Windows 11</td>\n",
       "      <td>2.3</td>\n",
       "      <td>Intel Core i7 12th Gen</td>\n",
       "      <td>[1, TB, NVMe]</td>\n",
       "      <td>NVIDIA GeForce RTX 3080 Laptop GPU</td>\n",
       "      <td>Yes</td>\n",
       "      <td>2560 x 1600</td>\n",
       "      <td>32 GB DDR5</td>\n",
       "      <td>MSI</td>\n",
       "    </tr>\n",
       "    <tr>\n",
       "      <th>3595</th>\n",
       "      <td>1599.99</td>\n",
       "      <td>Content Creation / Gaming / Home / Personal</td>\n",
       "      <td>Windows 11</td>\n",
       "      <td>2.6</td>\n",
       "      <td>Intel Core i9 13th Gen</td>\n",
       "      <td>[1, TB, NVMe]</td>\n",
       "      <td>NVIDIA GeForce RTX 4060 Laptop GPU</td>\n",
       "      <td>Yes</td>\n",
       "      <td>3200 x 2000</td>\n",
       "      <td>32 GB LPDDR5X</td>\n",
       "      <td>Lenovo</td>\n",
       "    </tr>\n",
       "  </tbody>\n",
       "</table>\n",
       "<p>824 rows × 11 columns</p>\n",
       "</div>"
      ],
      "text/plain": [
       "        price                                         type          os  Ghz  \\\n",
       "64    1849.99                                  Workstation  Windows 10  2.6   \n",
       "468   1125.00                                   Mainstream  Windows 10  2.3   \n",
       "469   1149.99                                   Mainstream  Windows 10  2.3   \n",
       "473   1699.97                             Content Creation  Windows 10  2.3   \n",
       "475   1099.00                                       Gaming  Windows 10  2.0   \n",
       "...       ...                                          ...         ...  ...   \n",
       "3591  3799.00                                       Gaming  Windows 11  2.2   \n",
       "3592  2107.29                              Work / Business  Windows 11  2.4   \n",
       "3593  2117.72                              Work / Business  Windows 11  2.2   \n",
       "3594  2247.02           Content Creation / Work / Business  Windows 11  2.3   \n",
       "3595  1599.99  Content Creation / Gaming / Home / Personal  Windows 11  2.6   \n",
       "\n",
       "                         Cpu            Ssd  \\\n",
       "64    Intel Core i7 10th Gen  [2, TB, PCIe]   \n",
       "468   Intel Core i7 11th Gen      [512, GB]   \n",
       "469   Intel Core i7 11th Gen      [512, GB]   \n",
       "473   Intel Core i7 11th Gen  [1, TB, PCIe]   \n",
       "475   Intel Core i5 12th Gen        [2, TB]   \n",
       "...                      ...            ...   \n",
       "3591  Intel Core i9 13th Gen  [2, TB, NVMe]   \n",
       "3592  Intel Core i7 13th Gen  [2, TB, PCIe]   \n",
       "3593  Intel Core i7 13th Gen  [1, TB, PCIe]   \n",
       "3594  Intel Core i7 12th Gen  [1, TB, NVMe]   \n",
       "3595  Intel Core i9 13th Gen  [1, TB, NVMe]   \n",
       "\n",
       "                                          graphics ts_info   resolution  \\\n",
       "64                      NVIDIA GeForce GTX 1650 Ti      No  1920 x 1080   \n",
       "468   NVIDIA GeForce RTX 3050ti Graphics 4GB GDDR6      No  1920 x 1080   \n",
       "469   NVIDIA GeForce RTX 3050ti Graphics 4GB GDDR6      No  1920 x 1080   \n",
       "473             NVIDIA GeForce RTX 3060 Laptop GPU      No  3072 x 1920   \n",
       "475                        NVIDIA GeForce GTX 1650      No  1920 x 1080   \n",
       "...                                            ...     ...          ...   \n",
       "3591            NVIDIA GeForce RTX 4090 Laptop GPU      No  2560 x 1600   \n",
       "3592            NVIDIA GeForce RTX 4060 Laptop GPU      No  2560 x 1600   \n",
       "3593            NVIDIA GeForce RTX 4050 Laptop GPU     Yes  2560 x 1600   \n",
       "3594            NVIDIA GeForce RTX 3080 Laptop GPU     Yes  2560 x 1600   \n",
       "3595            NVIDIA GeForce RTX 4060 Laptop GPU     Yes  3200 x 2000   \n",
       "\n",
       "         memory/ram   Brand  \n",
       "64             64GB  Lenovo  \n",
       "468       16GB DDR4     MSI  \n",
       "469       32GB DDR4     MSI  \n",
       "473      16 GB DDR4    Acer  \n",
       "475            64GB      HP  \n",
       "...             ...     ...  \n",
       "3591     32 GB DDR5     MSI  \n",
       "3592   32 GB LPDDR5     MSI  \n",
       "3593   32 GB LPDDR5     MSI  \n",
       "3594     32 GB DDR5     MSI  \n",
       "3595  32 GB LPDDR5X  Lenovo  \n",
       "\n",
       "[824 rows x 11 columns]"
      ]
     },
     "execution_count": 49,
     "metadata": {},
     "output_type": "execute_result"
    }
   ],
   "source": [
    "df_cleaned"
   ]
  },
  {
   "cell_type": "code",
   "execution_count": 50,
   "id": "1163b77e",
   "metadata": {},
   "outputs": [],
   "source": [
    "df_cleaned['Ssd'] = df_cleaned['Ssd'].apply(lambda x: ' '.join(x[0:2]) if pd.notna(x).any() else x)"
   ]
  },
  {
   "cell_type": "code",
   "execution_count": 51,
   "id": "80825ef5",
   "metadata": {},
   "outputs": [],
   "source": [
    "df_cleaned['Ssd'] = df_cleaned['Ssd'].str.replace(' ','')"
   ]
  },
  {
   "cell_type": "code",
   "execution_count": 52,
   "id": "62206dd2",
   "metadata": {},
   "outputs": [
    {
     "data": {
      "text/plain": [
       "array(['2TB', '512GB', '1TB', '4TB', '256GB', '128GB', '512GBNVMe',\n",
       "       '64GB', '1TBNVMe'], dtype=object)"
      ]
     },
     "execution_count": 52,
     "metadata": {},
     "output_type": "execute_result"
    }
   ],
   "source": [
    "df_cleaned['Ssd'].unique()"
   ]
  },
  {
   "cell_type": "code",
   "execution_count": 53,
   "id": "0148bac9",
   "metadata": {},
   "outputs": [],
   "source": [
    "df_cleaned['Ssd'] = df_cleaned['Ssd'].str.extract(r'(\\d+TB|\\d+GB)', expand=False)"
   ]
  },
  {
   "cell_type": "code",
   "execution_count": 54,
   "id": "baa7b8b0",
   "metadata": {},
   "outputs": [
    {
     "data": {
      "text/plain": [
       "1TB      300\n",
       "512GB    232\n",
       "2TB      143\n",
       "256GB     73\n",
       "4TB       48\n",
       "128GB     24\n",
       "64GB       4\n",
       "Name: Ssd, dtype: int64"
      ]
     },
     "execution_count": 54,
     "metadata": {},
     "output_type": "execute_result"
    }
   ],
   "source": [
    "df_cleaned['Ssd'].value_counts()"
   ]
  },
  {
   "cell_type": "code",
   "execution_count": 55,
   "id": "e3190d1a",
   "metadata": {},
   "outputs": [],
   "source": [
    "df_cleaned.loc[df_cleaned['Ssd'] == '1TB','Ssd'] = '1000GB'\n",
    "df_cleaned.loc[df_cleaned['Ssd'] == '2TB','Ssd'] = '2000GB'\n",
    "df_cleaned.loc[df_cleaned['Ssd'] == '4TB','Ssd'] = '4000GB'"
   ]
  },
  {
   "cell_type": "code",
   "execution_count": 56,
   "id": "4133939e",
   "metadata": {},
   "outputs": [],
   "source": [
    "df_cleaned['Ssd'] = df_cleaned['Ssd'].str.rstrip('GB')\n",
    "df_cleaned['Ssd'] = pd.to_numeric(df_cleaned['Ssd'], errors='coerce')"
   ]
  },
  {
   "cell_type": "markdown",
   "id": "8137efb4",
   "metadata": {},
   "source": [
    "## Ts_info "
   ]
  },
  {
   "cell_type": "code",
   "execution_count": 57,
   "id": "7a68e706",
   "metadata": {},
   "outputs": [
    {
     "data": {
      "text/plain": [
       "No                               599\n",
       "Yes                              134\n",
       "10 point multi-touch              52\n",
       "10-point multi-touch              30\n",
       "10-point Multi-touch               3\n",
       "10 point multi-touch G5            3\n",
       "10 Point Multi-Touch               2\n",
       "On-cell, 10-point Multi-touch      1\n",
       "Name: ts_info, dtype: int64"
      ]
     },
     "execution_count": 57,
     "metadata": {},
     "output_type": "execute_result"
    }
   ],
   "source": [
    "df_cleaned['ts_info'].value_counts()"
   ]
  },
  {
   "cell_type": "code",
   "execution_count": 58,
   "id": "8eeefd35",
   "metadata": {},
   "outputs": [],
   "source": [
    "df_cleaned.loc[df_cleaned['ts_info'] != 'No', 'ts_info'] = 'Yes'"
   ]
  },
  {
   "cell_type": "code",
   "execution_count": 59,
   "id": "08ab6c20",
   "metadata": {},
   "outputs": [
    {
     "data": {
      "text/plain": [
       "No     599\n",
       "Yes    225\n",
       "Name: ts_info, dtype: int64"
      ]
     },
     "execution_count": 59,
     "metadata": {},
     "output_type": "execute_result"
    }
   ],
   "source": [
    "df_cleaned['ts_info'].value_counts()"
   ]
  },
  {
   "cell_type": "code",
   "execution_count": 60,
   "id": "ef6ce753",
   "metadata": {},
   "outputs": [],
   "source": [
    "# Transforming into binary form\n",
    "df_cleaned['ts_info'] = df_cleaned['ts_info'].apply(lambda x: 1 if x == 'Yes' else 0)\n",
    "\n",
    "df_cleaned['ts_info'] = df_cleaned['ts_info'].astype('int')"
   ]
  },
  {
   "cell_type": "code",
   "execution_count": 61,
   "id": "d7d38ed7",
   "metadata": {},
   "outputs": [
    {
     "name": "stdout",
     "output_type": "stream",
     "text": [
      "<class 'pandas.core.frame.DataFrame'>\n",
      "Int64Index: 824 entries, 64 to 3595\n",
      "Data columns (total 11 columns):\n",
      " #   Column      Non-Null Count  Dtype   \n",
      "---  ------      --------------  -----   \n",
      " 0   price       824 non-null    float64 \n",
      " 1   type        824 non-null    object  \n",
      " 2   os          824 non-null    category\n",
      " 3   Ghz         824 non-null    float64 \n",
      " 4   Cpu         824 non-null    object  \n",
      " 5   Ssd         824 non-null    int64   \n",
      " 6   graphics    824 non-null    object  \n",
      " 7   ts_info     824 non-null    int64   \n",
      " 8   resolution  824 non-null    object  \n",
      " 9   memory/ram  824 non-null    object  \n",
      " 10  Brand       824 non-null    object  \n",
      "dtypes: category(1), float64(2), int64(2), object(6)\n",
      "memory usage: 71.7+ KB\n"
     ]
    }
   ],
   "source": [
    "df_cleaned.info()"
   ]
  },
  {
   "cell_type": "code",
   "execution_count": 62,
   "id": "61ca2305",
   "metadata": {},
   "outputs": [
    {
     "data": {
      "text/html": [
       "<div>\n",
       "<style scoped>\n",
       "    .dataframe tbody tr th:only-of-type {\n",
       "        vertical-align: middle;\n",
       "    }\n",
       "\n",
       "    .dataframe tbody tr th {\n",
       "        vertical-align: top;\n",
       "    }\n",
       "\n",
       "    .dataframe thead th {\n",
       "        text-align: right;\n",
       "    }\n",
       "</style>\n",
       "<table border=\"1\" class=\"dataframe\">\n",
       "  <thead>\n",
       "    <tr style=\"text-align: right;\">\n",
       "      <th></th>\n",
       "      <th>price</th>\n",
       "      <th>type</th>\n",
       "      <th>os</th>\n",
       "      <th>Ghz</th>\n",
       "      <th>Cpu</th>\n",
       "      <th>Ssd</th>\n",
       "      <th>graphics</th>\n",
       "      <th>ts_info</th>\n",
       "      <th>resolution</th>\n",
       "      <th>memory/ram</th>\n",
       "      <th>Brand</th>\n",
       "    </tr>\n",
       "  </thead>\n",
       "  <tbody>\n",
       "    <tr>\n",
       "      <th>64</th>\n",
       "      <td>1849.99</td>\n",
       "      <td>Workstation</td>\n",
       "      <td>Windows 10</td>\n",
       "      <td>2.6</td>\n",
       "      <td>Intel Core i7 10th Gen</td>\n",
       "      <td>2000</td>\n",
       "      <td>NVIDIA GeForce GTX 1650 Ti</td>\n",
       "      <td>0</td>\n",
       "      <td>1920 x 1080</td>\n",
       "      <td>64GB</td>\n",
       "      <td>Lenovo</td>\n",
       "    </tr>\n",
       "    <tr>\n",
       "      <th>468</th>\n",
       "      <td>1125.00</td>\n",
       "      <td>Mainstream</td>\n",
       "      <td>Windows 10</td>\n",
       "      <td>2.3</td>\n",
       "      <td>Intel Core i7 11th Gen</td>\n",
       "      <td>512</td>\n",
       "      <td>NVIDIA GeForce RTX 3050ti Graphics 4GB GDDR6</td>\n",
       "      <td>0</td>\n",
       "      <td>1920 x 1080</td>\n",
       "      <td>16GB DDR4</td>\n",
       "      <td>MSI</td>\n",
       "    </tr>\n",
       "    <tr>\n",
       "      <th>469</th>\n",
       "      <td>1149.99</td>\n",
       "      <td>Mainstream</td>\n",
       "      <td>Windows 10</td>\n",
       "      <td>2.3</td>\n",
       "      <td>Intel Core i7 11th Gen</td>\n",
       "      <td>512</td>\n",
       "      <td>NVIDIA GeForce RTX 3050ti Graphics 4GB GDDR6</td>\n",
       "      <td>0</td>\n",
       "      <td>1920 x 1080</td>\n",
       "      <td>32GB DDR4</td>\n",
       "      <td>MSI</td>\n",
       "    </tr>\n",
       "    <tr>\n",
       "      <th>473</th>\n",
       "      <td>1699.97</td>\n",
       "      <td>Content Creation</td>\n",
       "      <td>Windows 10</td>\n",
       "      <td>2.3</td>\n",
       "      <td>Intel Core i7 11th Gen</td>\n",
       "      <td>1000</td>\n",
       "      <td>NVIDIA GeForce RTX 3060 Laptop GPU</td>\n",
       "      <td>0</td>\n",
       "      <td>3072 x 1920</td>\n",
       "      <td>16 GB DDR4</td>\n",
       "      <td>Acer</td>\n",
       "    </tr>\n",
       "    <tr>\n",
       "      <th>475</th>\n",
       "      <td>1099.00</td>\n",
       "      <td>Gaming</td>\n",
       "      <td>Windows 10</td>\n",
       "      <td>2.0</td>\n",
       "      <td>Intel Core i5 12th Gen</td>\n",
       "      <td>2000</td>\n",
       "      <td>NVIDIA GeForce GTX 1650</td>\n",
       "      <td>0</td>\n",
       "      <td>1920 x 1080</td>\n",
       "      <td>64GB</td>\n",
       "      <td>HP</td>\n",
       "    </tr>\n",
       "  </tbody>\n",
       "</table>\n",
       "</div>"
      ],
      "text/plain": [
       "       price              type          os  Ghz                     Cpu   Ssd  \\\n",
       "64   1849.99       Workstation  Windows 10  2.6  Intel Core i7 10th Gen  2000   \n",
       "468  1125.00        Mainstream  Windows 10  2.3  Intel Core i7 11th Gen   512   \n",
       "469  1149.99        Mainstream  Windows 10  2.3  Intel Core i7 11th Gen   512   \n",
       "473  1699.97  Content Creation  Windows 10  2.3  Intel Core i7 11th Gen  1000   \n",
       "475  1099.00            Gaming  Windows 10  2.0  Intel Core i5 12th Gen  2000   \n",
       "\n",
       "                                         graphics  ts_info   resolution  \\\n",
       "64                     NVIDIA GeForce GTX 1650 Ti        0  1920 x 1080   \n",
       "468  NVIDIA GeForce RTX 3050ti Graphics 4GB GDDR6        0  1920 x 1080   \n",
       "469  NVIDIA GeForce RTX 3050ti Graphics 4GB GDDR6        0  1920 x 1080   \n",
       "473            NVIDIA GeForce RTX 3060 Laptop GPU        0  3072 x 1920   \n",
       "475                       NVIDIA GeForce GTX 1650        0  1920 x 1080   \n",
       "\n",
       "     memory/ram   Brand  \n",
       "64         64GB  Lenovo  \n",
       "468   16GB DDR4     MSI  \n",
       "469   32GB DDR4     MSI  \n",
       "473  16 GB DDR4    Acer  \n",
       "475        64GB      HP  "
      ]
     },
     "execution_count": 62,
     "metadata": {},
     "output_type": "execute_result"
    }
   ],
   "source": [
    "df_cleaned.head(5)"
   ]
  },
  {
   "cell_type": "markdown",
   "id": "e3e43195",
   "metadata": {},
   "source": [
    "## memory/ram\n"
   ]
  },
  {
   "cell_type": "code",
   "execution_count": 63,
   "id": "d43c2a32",
   "metadata": {},
   "outputs": [
    {
     "data": {
      "text/plain": [
       "array(['64GB', '16GB DDR4', '32GB DDR4', '16 GB DDR4', '16GB', '32GB',\n",
       "       '32 GB DDR4', '16 GB DDR5', '8 GB DDR4', '40GB', '12GB', '24GB',\n",
       "       '8GB', '16 GB LPDDR5', '16 GB LPDDR4', '8 GB LPDDR4X', '64GB DDR4',\n",
       "       '16 GB LPDDR4X', '24 GB DDR5', '32 GB DDR5', '64 GB DDR5',\n",
       "       '24 GB DDR4', '32 GB LPDDR4X', '32GB DDR5 RAM', '32 GB LPDDR5',\n",
       "       '8 GB LPDDR5', '40 GB DDR4', '20 GB DDR4', '128 GB DDR5',\n",
       "       '8 GB DDR5', '32 GB LPDDR5X', '64 GB DDR4', '12GB DDR4',\n",
       "       '8GB DDR4', '32GB DDR5', '8 GB LPDDR5x', '32GB DDR4 RAM', '16 GB',\n",
       "       '4 GB DDR4', '8 GB', '16 GB LPDDR5x', '4 GB LPDDR4X',\n",
       "       '8 GB LPDDR3', '4 GB', '32 GB LPDDR5x', '64GB DDR5 RAM'],\n",
       "      dtype=object)"
      ]
     },
     "execution_count": 63,
     "metadata": {},
     "output_type": "execute_result"
    }
   ],
   "source": [
    "df_cleaned['memory/ram'].unique()"
   ]
  },
  {
   "cell_type": "code",
   "execution_count": 64,
   "id": "f3eefaa4",
   "metadata": {},
   "outputs": [
    {
     "data": {
      "text/plain": [
       "824"
      ]
     },
     "execution_count": 64,
     "metadata": {},
     "output_type": "execute_result"
    }
   ],
   "source": [
    "df_cleaned['memory/ram'].value_counts().sum()"
   ]
  },
  {
   "cell_type": "code",
   "execution_count": 65,
   "id": "f4c2cd7a",
   "metadata": {},
   "outputs": [],
   "source": [
    "df_cleaned['memory/ram'] = df_cleaned['memory/ram'].astype(str)\n",
    "df_cleaned['memory/ram'] = df_cleaned['memory/ram'].apply(lambda x: x.split()[0:2])\n",
    "df_cleaned['memory/ram'] = df_cleaned['memory/ram'].apply(lambda x: ''.join(x))"
   ]
  },
  {
   "cell_type": "code",
   "execution_count": 66,
   "id": "38ccdfcb",
   "metadata": {},
   "outputs": [
    {
     "data": {
      "text/plain": [
       "array(['64GB', '16GBDDR4', '32GBDDR4', '16GB', '32GB', '8GB', '40GB',\n",
       "       '12GB', '24GB', '64GBDDR4', '32GBDDR5', '20GB', '128GB',\n",
       "       '12GBDDR4', '8GBDDR4', '4GB', '64GBDDR5'], dtype=object)"
      ]
     },
     "execution_count": 66,
     "metadata": {},
     "output_type": "execute_result"
    }
   ],
   "source": [
    "df_cleaned['memory/ram'].unique()"
   ]
  },
  {
   "cell_type": "code",
   "execution_count": 67,
   "id": "7ae67882",
   "metadata": {},
   "outputs": [],
   "source": [
    "df_cleaned['memory/ram'] = df_cleaned['memory/ram'].str.extract(r'(\\d+GB)', expand=False)"
   ]
  },
  {
   "cell_type": "code",
   "execution_count": 68,
   "id": "90294462",
   "metadata": {},
   "outputs": [
    {
     "data": {
      "text/plain": [
       "16GB     338\n",
       "32GB     251\n",
       "8GB      115\n",
       "64GB      83\n",
       "24GB      17\n",
       "40GB       7\n",
       "4GB        6\n",
       "12GB       3\n",
       "20GB       2\n",
       "128GB      2\n",
       "Name: memory/ram, dtype: int64"
      ]
     },
     "execution_count": 68,
     "metadata": {},
     "output_type": "execute_result"
    }
   ],
   "source": [
    "df_cleaned['memory/ram'].value_counts()"
   ]
  },
  {
   "cell_type": "code",
   "execution_count": 69,
   "id": "2243bfdb",
   "metadata": {},
   "outputs": [
    {
     "data": {
      "text/plain": [
       "array(['64GB', '16GB', '32GB', '8GB', '40GB', '12GB', '24GB', '20GB',\n",
       "       '128GB', '4GB'], dtype=object)"
      ]
     },
     "execution_count": 69,
     "metadata": {},
     "output_type": "execute_result"
    }
   ],
   "source": [
    "df_cleaned['memory/ram'].unique()"
   ]
  },
  {
   "cell_type": "code",
   "execution_count": 70,
   "id": "01667c1d",
   "metadata": {},
   "outputs": [],
   "source": [
    "df_cleaned['memory/ram'] = df_cleaned['memory/ram'].str.rstrip('GB')"
   ]
  },
  {
   "cell_type": "code",
   "execution_count": 71,
   "id": "d8138768",
   "metadata": {},
   "outputs": [],
   "source": [
    "df_cleaned['memory/ram'] = pd.to_numeric(df_cleaned['memory/ram'], errors='coerce')"
   ]
  },
  {
   "cell_type": "markdown",
   "id": "009dd18e",
   "metadata": {},
   "source": [
    "## Type"
   ]
  },
  {
   "cell_type": "code",
   "execution_count": 72,
   "id": "fdd31f22",
   "metadata": {},
   "outputs": [
    {
     "data": {
      "text/plain": [
       "array(['Workstation', 'Mainstream', 'Content Creation', 'Gaming',\n",
       "       'Work / Business', 'Home / Personal', 'Everyday Value',\n",
       "       'Content Creation / Work / Business',\n",
       "       'Content Creation / Home / Personal',\n",
       "       'Everyday Value / Home / Personal / Work / Business',\n",
       "       'Home / Personal / Content Creation', 'Gaming & Entertainment',\n",
       "       'Content Creation / Home / Personal / Work / Business',\n",
       "       'Content Creation / Education / Home / Personal',\n",
       "       'Content Creation / Work / Business / Workstation',\n",
       "       'Content Creation / Gaming / Home / Personal'], dtype=object)"
      ]
     },
     "execution_count": 72,
     "metadata": {},
     "output_type": "execute_result"
    }
   ],
   "source": [
    "df_cleaned['type'].unique()"
   ]
  },
  {
   "cell_type": "code",
   "execution_count": 73,
   "id": "f53d07eb",
   "metadata": {},
   "outputs": [],
   "source": [
    "df_cleaned.loc[df_cleaned['type'].str.count('/') > 1, 'type'] = 'Versatile'\n",
    "df_cleaned.loc[df_cleaned['type'] == 'Gaming & Entertainment', 'type'] = 'Gaming'\n",
    "\n",
    "df_cleaned.loc[df_cleaned['type'] == 'Mainstream', 'type'] = 'Home / Personal'\n",
    "df_cleaned.loc[df_cleaned['type'] == 'Everyday', 'type'] = 'Home / Personal'\n",
    "\n",
    "df_cleaned.loc[df_cleaned['type'] == 'Workstation', 'type'] = 'Work / Business'\n",
    "\n",
    "\n",
    "\n"
   ]
  },
  {
   "cell_type": "code",
   "execution_count": 74,
   "id": "9fe2ba1e",
   "metadata": {},
   "outputs": [
    {
     "data": {
      "text/plain": [
       "Gaming              391\n",
       "Home / Personal     173\n",
       "Work / Business     125\n",
       "Versatile            63\n",
       "Content Creation     52\n",
       "Everyday Value       20\n",
       "Name: type, dtype: int64"
      ]
     },
     "execution_count": 74,
     "metadata": {},
     "output_type": "execute_result"
    }
   ],
   "source": [
    "df_cleaned['type'].value_counts()"
   ]
  },
  {
   "cell_type": "code",
   "execution_count": 75,
   "id": "cae74f5f",
   "metadata": {},
   "outputs": [
    {
     "data": {
      "text/plain": [
       "Gaming              391\n",
       "Home / Personal     173\n",
       "Work / Business     125\n",
       "Versatile            63\n",
       "Content Creation     52\n",
       "Everyday Value       20\n",
       "Name: type, dtype: int64"
      ]
     },
     "execution_count": 75,
     "metadata": {},
     "output_type": "execute_result"
    }
   ],
   "source": [
    "df_cleaned['type'].value_counts()"
   ]
  },
  {
   "cell_type": "code",
   "execution_count": 76,
   "id": "19473c6e",
   "metadata": {},
   "outputs": [],
   "source": [
    "# We can count the amount of slashes and then make a separate column"
   ]
  },
  {
   "cell_type": "markdown",
   "id": "0e6b7a00",
   "metadata": {},
   "source": [
    "## CPU"
   ]
  },
  {
   "cell_type": "code",
   "execution_count": 77,
   "id": "a7954841",
   "metadata": {},
   "outputs": [
    {
     "data": {
      "text/plain": [
       "Intel Core i7 11th Gen     148\n",
       "Intel Core i7 12th Gen     111\n",
       "Intel Core i5 10th Gen      95\n",
       "Intel Core i5 11th Gen      92\n",
       "Intel Core i5 12th Gen      48\n",
       "Intel Core i9 13th Gen      33\n",
       "AMD Ryzen 7                 30\n",
       "Intel Core i7 13th Gen      28\n",
       "AMD Ryzen 7 5000 Series     22\n",
       "Intel Core i7 10th Gen      21\n",
       "AMD Ryzen 7 4000 Series     20\n",
       "AMD Ryzen 7 6000 Series     19\n",
       "Intel Core i5               16\n",
       "Intel Core i9 12th Gen      16\n",
       "AMD Ryzen 5                 15\n",
       "AMD Ryzen 9                 14\n",
       "AMD Ryzen 5 5000 Series     13\n",
       "Intel Core i3 11th Gen      11\n",
       "Intel Core i3 10th Gen       6\n",
       "AMD Ryzen 7 7000 Series      6\n",
       "AMD Ryzen 9 5000 Series      5\n",
       "Intel Core i7 8th Gen        5\n",
       "Intel Core i7 7th Gen        4\n",
       "AMD Ryzen 5 7000 Series      4\n",
       "AMD Ryzen 5 4000 Series      4\n",
       "Intel Core i7                3\n",
       "Intel Core i9 11th Gen       3\n",
       "Intel Core i5 13th Gen       3\n",
       "AMD Ryzen 3 3000 Series      3\n",
       "Intel Core i5 8th Gen        3\n",
       "AMD Ryzen 9 7000 Series      3\n",
       "AMD Ryzen 9 6000 Series      2\n",
       "Intel Core i5 9th Gen        2\n",
       "Intel Core i9-12900H         2\n",
       "AMD Ryzen 5 6000 Series      2\n",
       "Intel Celeron                2\n",
       "Intel Core i7 6th Gen        1\n",
       "AMD Ryzen 3                  1\n",
       "Intel Core i5 6th Gen        1\n",
       "AMD Ryzen 7 3000 Series      1\n",
       "Intel Pentium Silver         1\n",
       "8th Gen Intel Core m3        1\n",
       "Intel Pentium                1\n",
       "Intel Pentium Gold           1\n",
       "AMD Ryzen 5 PRO              1\n",
       "Intel Core i5 7th Gen        1\n",
       "Name: Cpu, dtype: int64"
      ]
     },
     "execution_count": 77,
     "metadata": {},
     "output_type": "execute_result"
    }
   ],
   "source": [
    "df_cleaned['Cpu'].value_counts()"
   ]
  },
  {
   "cell_type": "code",
   "execution_count": 78,
   "id": "36997883",
   "metadata": {},
   "outputs": [],
   "source": [
    "# Just reading off the unique values, There are two main brands with different variations \n",
    "# There is juding off this there is an ordinal order wit hthe brands\n",
    "# Lets try to clean the data by grouping data based on their model \n",
    "\n",
    "df_cleaned.loc[df_cleaned['Cpu'].str.contains('i9'), 'Cpu'] = 'Intel Core i9'\n",
    "df_cleaned.loc[df_cleaned['Cpu'].str.contains('i7'), 'Cpu'] = 'Intel Core i7'\n",
    "df_cleaned.loc[df_cleaned['Cpu'].str.contains('i5'), 'Cpu'] = 'Intel Core i5'\n",
    "df_cleaned.loc[df_cleaned['Cpu'].str.contains('i3'), 'Cpu'] = 'Intel Core i3'\n",
    "df_cleaned.loc[df_cleaned['Cpu'].str.contains('m3'), 'Cpu'] = 'Intel Core i3'\n",
    "\n",
    "df_cleaned.loc[df_cleaned['Cpu'].str.contains('Ryzen 9'), 'Cpu'] = 'Ryzen 9'\n",
    "df_cleaned.loc[df_cleaned['Cpu'].str.contains('Ryzen 7'), 'Cpu'] = 'Ryzen 7'\n",
    "df_cleaned.loc[df_cleaned['Cpu'].str.contains('Ryzen 5'), 'Cpu'] = 'Ryzen 5'\n",
    "df_cleaned.loc[df_cleaned['Cpu'].str.contains('Ryzen 3'), 'Cpu'] = 'Ryzen 3'\n",
    "\n",
    "df_cleaned = df_cleaned[df_cleaned['Cpu'].str.contains('Ryzen|Intel Core')]"
   ]
  },
  {
   "cell_type": "code",
   "execution_count": 79,
   "id": "4e56ba2d",
   "metadata": {
    "scrolled": true
   },
   "outputs": [
    {
     "data": {
      "text/plain": [
       "Intel Core i7    321\n",
       "Intel Core i5    261\n",
       "Ryzen 7           98\n",
       "Intel Core i9     54\n",
       "Ryzen 5           39\n",
       "Ryzen 9           24\n",
       "Intel Core i3     18\n",
       "Ryzen 3            4\n",
       "Name: Cpu, dtype: int64"
      ]
     },
     "execution_count": 79,
     "metadata": {},
     "output_type": "execute_result"
    }
   ],
   "source": [
    "df_cleaned['Cpu'].value_counts()"
   ]
  },
  {
   "cell_type": "markdown",
   "id": "38eb005e",
   "metadata": {},
   "source": [
    "## Graphics"
   ]
  },
  {
   "cell_type": "code",
   "execution_count": 80,
   "id": "9fe3d879",
   "metadata": {},
   "outputs": [],
   "source": [
    "# There are three types of Graphic Cards Brand\n",
    "# We can split the data into three unique values only\n",
    "\n",
    "# Low End Graphics card, Medium End Graphics card, High End Graphics card,"
   ]
  },
  {
   "cell_type": "code",
   "execution_count": 81,
   "id": "3ad143e9",
   "metadata": {},
   "outputs": [
    {
     "data": {
      "text/plain": [
       "array(['NVIDIA GeForce GTX 1650 Ti',\n",
       "       'NVIDIA GeForce RTX 3050ti Graphics 4GB GDDR6',\n",
       "       'NVIDIA GeForce RTX 3060 Laptop GPU', 'NVIDIA GeForce GTX 1650',\n",
       "       'Intel Iris Xe Graphics', 'AMD Radeon Vega 7 Graphics',\n",
       "       'NVIDIA GeForce RTX 4050 Laptop GPU (MGP 140W)',\n",
       "       'NVIDIA GeForce RTX 3070 Laptop GPU', 'RTX 3070',\n",
       "       'NVIDIA GeForce RTX 3060 Laptop GPUGPU Boost Clock Up to 1425 MHzMaximum Graphics Power Up to 105W',\n",
       "       'AMD Radeon Graphics', 'NVIDIA GeForce RTX 3050 Ti Laptop GPU',\n",
       "       'Intel Iris X? Graphics', 'GeForce RTX 3050', 'GeForce GTX 1650',\n",
       "       'GeForce RTX 3060', 'NVIDIA GeForce RTX 3060',\n",
       "       'NVIDIA GeForce RTX 3050 Ti', 'NVIDIA GeForce RTX 3050',\n",
       "       'Intel UHD Graphics', 'GTX 1650', 'GeForce RTX 2050',\n",
       "       'AMD Radeon 660M', 'NVIDIA GeForce GTX 1650 Max-Q',\n",
       "       'NVIDIA GeForce RTX 3050 Laptop GPU', 'AMD Radeon graphics',\n",
       "       'GeForce MX350', 'RTX 3050 Ti',\n",
       "       'NVIDIA GeForce RTX 4050 Laptop GPU', 'NVIDIA GeForce MX350',\n",
       "       'NVIDIA GeForce RTX 4050', 'Intel HD Graphics',\n",
       "       'GeForce RTX 3070 Ti', 'AMD Radeon 680M',\n",
       "       'NVIDIA GeForce RTX 3070 Ti', 'AMD Radeon Vega 6',\n",
       "       'AMD Radeon Vega 8', 'NVIDIA\\xa0GeForce\\xa0RTX\\xa03050 Laptop GPU',\n",
       "       'AMD Radeon RX Vega 10', 'NVIDIA T550', 'NVIDIA GeForce MX550',\n",
       "       'NVIDIA GeForce RTX 3050Ti', 'ARC A370M',\n",
       "       'Intel Iris Plus Graphics', 'NVIDIA T600',\n",
       "       'NVIDIA GeForce RTX 3060 Laptop GPUUp to 1357MHz Boost Clock, 65W Maximum Graphics Power with Dynamic Boost',\n",
       "       'NVIDIA GeForce RTX 4070 Laptop GPU',\n",
       "       'NVIDIA GeForce RTX 4080 Laptop GPU (MGP 175W)',\n",
       "       'NVIDIA GeForce RTX 3050 Laptop GPUUp to 1600MHz at 60W (75W with Dynamic Boost)',\n",
       "       'NVIDIA GeForce RTX 4080 Laptop GPU',\n",
       "       'NVIDIA GeForce RTX 3060 Laptop GPUGPU Boost Clock: Up to 1525 MHz, Maximum Graphics Power: Up to 105 W',\n",
       "       'NVIDIA GeForce RTX 3080 Ti Laptop GPU',\n",
       "       'NVIDIA GeForce RTX 3070 Ti Laptop GPU',\n",
       "       'NVIDIA GeForce RTX 3050 Ti 4GB',\n",
       "       'NVIDIA GeForce RTX 4060 Laptop GPU2420MHz* at 140W (2370MHz Boost Clock+50MHz OC, 115W+25W Dynamic Boost)',\n",
       "       'NVIDIA GeForce RTX 3080 Laptop GPU',\n",
       "       'NVIDIA GeForce RTX 4060 Laptop GPU',\n",
       "       'NVIDIA GeForce RTX 4060 Laptop GPU (MGP 140W)',\n",
       "       'NVIDIA GeForce RTX 3050 Laptop GPUROG Boost: 1107.5MHz* at 40W (1057.5MHz Boost Clock+50MHz OC, 35W+5W Dynamic Boost)',\n",
       "       'NVIDIA GeForce RTX 4080 Laptop GPUMGP 175W',\n",
       "       'AMD Radeon 8 Graphics',\n",
       "       'NVIDIA GeForce RTX 4070 Laptop GPUROG Boost: 2225MHz* at 140W (2175MHz Boost Clock+50MHz OC, 115W+25W Dynamic Boost)MUX Switch + NVIDIA Advanced Optimus',\n",
       "       'NVIDIA GeForce RTX 4090 Laptop GPU', 'Intel UHD Graphics 620',\n",
       "       'NVIDIA\\xa0GeForce\\xa0RTX\\xa04050\\xa0Laptop\\xa0GPU',\n",
       "       'GeForce RTX 3050 TI',\n",
       "       'NVIDIA GeForce RTX 3050 Laptop GPU1790MHz* at 95W (1740MHz Boost Clock+50MHz OC, 80W+15W Dynamic Boost)',\n",
       "       'NVIDIA GeForce\\xa0RTX 3060', 'NVidia RTX 3060',\n",
       "       'NVIDIA GeForce RTX 4050 Laptop GPU2420MHz* at 140W (2370MHz Boost Clock+50MHz OC, 115W+25W Dynamic Boost)',\n",
       "       'Intel UHD Graphics 630',\n",
       "       'NVIDIA\\xa0GeForce\\xa0RTX\\xa03080\\xa0Laptop\\xa0GPUROG Boost: 1295MHz* at 120W (1245MHz Boost Clock+50MHz OC, 100W+20W Dynamic Boost)',\n",
       "       'GeForce RTX 3050 Ti', 'RTX 3050',\n",
       "       'NVIDIA GeForce RTX 3050 Ti 4GB GDDR6 up to 1745MHz at 95W (80W + 15W with Dynamic Boost )',\n",
       "       'NVIDIA Quadro M1200 with 4GB GDDR5 dedicated memory',\n",
       "       'NVIDIA GeForce RTX 4060', 'AMD Radeon RX 6700M',\n",
       "       'NVIDIA GeForce MX450', 'NVIDIA MX350',\n",
       "       'NVIDIA GeForce RTX 3060 Laptop GPUMax GPU Power with Dynamic Boost 65W',\n",
       "       'NVIDIA GeForce RTX 3050 Laptop GPUROG Boost: 1550MHz* at 95W (1500MHz Boost Clock+50MHz OC, 80W+15W Dynamic Boost)',\n",
       "       'AMD Radeon Vega 3', 'Intel HD Graphics 520',\n",
       "       'AMD Radeon RX Vega 11', 'Intel Iris Plus Graphics 640',\n",
       "       'AMD Radeon Graphics Microsoft Surface Edition',\n",
       "       'NVIDIA GeForce GTX 1660 Ti Max-Q',\n",
       "       'NVIDIA GeForce GTX 1650 with Max-Q Design',\n",
       "       'Intel UHD Graphics 615', 'Intel Iris Graphics 540',\n",
       "       'NVIDIA RTX A2000 Laptop GPU', 'GTX 1650 Max-Q',\n",
       "       'GeForce GTX 1650 Max-Q',\n",
       "       'NVIDIA GeForce RTX 3060 Laptop GPUGPU Boost Clock 1802MHzMax GPU Power with Dynamic Boost 130W',\n",
       "       'GeForce RTX 2070 Super', 'GeForce GTX 1050 Ti',\n",
       "       'NVIDIA GeForce GTX 1060', 'GeForce RTX 3070', 'RTX 3060',\n",
       "       'NVIDIA\\xa0GeForce\\xa0RTX\\xa04090\\xa0Laptop\\xa0GPU',\n",
       "       'AMD Radeon RX 6800M', 'NVIDIA GeForce RTX 4070',\n",
       "       'NVIDIA GeForce RTX 4070 Laptop GPU2225MHz* at140W (2175MHz Boost Clock+50MHz OC, 115W+25W Dynamic Boost)',\n",
       "       'NVIDIA GeForce RTX 4090 Laptop GPUBoost Clock 2040MHz, TGP 175W',\n",
       "       'NVIDIA GeForce RTX 4070 Laptop GPUBoost Clock 2175MHz, TGP 140W',\n",
       "       'NVIDIA GeForce RTX 4090 Laptop GPUROG Boost: 2090MHz* at 175W (2040MHz Boost Clock+50MHz OC, 150W+25W Dynamic Boost)',\n",
       "       'NVIDIA\\xa0GeForce\\xa0RTX\\xa04070\\xa0Laptop\\xa0GPU',\n",
       "       'NVIDIA GeForce RTX 3070 Ti Laptop GPUROG Boost: 1460 MHz* at 150W (1410MHz Boost Clock+50MHz OC, 125W+25W Dynamic Boost)'],\n",
       "      dtype=object)"
      ]
     },
     "execution_count": 81,
     "metadata": {},
     "output_type": "execute_result"
    }
   ],
   "source": [
    "df_cleaned['graphics'].unique()"
   ]
  },
  {
   "cell_type": "code",
   "execution_count": 82,
   "id": "10b65276",
   "metadata": {},
   "outputs": [],
   "source": [
    "# Handling NVIDIA Graphics Cards"
   ]
  },
  {
   "cell_type": "code",
   "execution_count": 83,
   "id": "4825d7f8",
   "metadata": {},
   "outputs": [],
   "source": [
    "df_cleaned.loc[df_cleaned['graphics'].str.contains('RTX 4050'), 'graphics'] = 'NVIDIA GeForce RTX 4050'\n",
    "df_cleaned.loc[df_cleaned['graphics'].str.contains('RTX 4060'), 'graphics'] = 'NVIDIA GeForce RTX 4060'\n",
    "df_cleaned.loc[df_cleaned['graphics'].str.contains('RTX 4070'), 'graphics'] = 'NVIDIA GeForce RTX 4070'\n",
    "df_cleaned.loc[df_cleaned['graphics'].str.contains('RTX 4080'), 'graphics'] = 'NVIDIA GeForce RTX 4080'\n",
    "df_cleaned.loc[df_cleaned['graphics'].str.contains('RTX 4090'), 'graphics'] = 'NVIDIA GeForce RTX 4090'\n",
    "\n",
    "\n",
    "df_cleaned.loc[df_cleaned['graphics'].str.contains('RTX 3080'), 'graphics'] = 'NVIDIA GeForce RTX 3080'\n",
    "df_cleaned.loc[df_cleaned['graphics'].str.contains('RTX 3050'), 'graphics'] = 'NVIDIA GeForce RTX 3050'\n",
    "df_cleaned.loc[df_cleaned['graphics'].str.contains('RTX 3060'), 'graphics'] = 'NVIDIA GeForce RTX 3060'\n",
    "df_cleaned.loc[df_cleaned['graphics'].str.contains('RTX 3070'), 'graphics'] = 'NVIDIA GeForce RTX 3070'\n",
    "df_cleaned.loc[df_cleaned['graphics'].str.contains('RTX 3080 Laptop'), 'graphics'] = 'NVIDIA GeForce RTX 3080'\n",
    "df_cleaned.loc[df_cleaned['graphics'].str.contains('RTX 4050 Laptop'), 'graphics'] = 'NVIDIA GeForce RTX 4050'\n",
    "df_cleaned.loc[df_cleaned['graphics'].str.contains('RTX 4070 Laptop'), 'graphics'] = 'NVIDIA GeForce RTX 4070'\n",
    "\n",
    "df_cleaned.loc[df_cleaned['graphics'].str.contains('4050'), 'graphics'] = 'NVIDIA GeForce RTX 4050'\n",
    "df_cleaned.loc[df_cleaned['graphics'].str.contains('3050'), 'graphics'] = 'NVIDIA GeForce RTX 3050'\n",
    "df_cleaned.loc[df_cleaned['graphics'].str.contains('4070'), 'graphics'] = 'NVIDIA GeForce RTX 4070'\n",
    "df_cleaned.loc[df_cleaned['graphics'].str.contains('3080'), 'graphics'] = 'NVIDIA GeForce RTX 3080'\n",
    "df_cleaned.loc[df_cleaned['graphics'].str.contains('4090'), 'graphics'] = 'NVIDIA GeForce RTX 4090'\n",
    "\n",
    "df_cleaned.loc[df_cleaned['graphics'].str.contains('MX350|MX 350'), 'graphics'] = 'NVIDIA GeForce MX350'\n",
    "\n",
    "\n",
    "df_cleaned.loc[df_cleaned['graphics'].str.contains('GTX 1650'), 'graphics'] = 'NVIDIA GeForce GTX 1650'\n"
   ]
  },
  {
   "cell_type": "code",
   "execution_count": 84,
   "id": "e02268e4",
   "metadata": {},
   "outputs": [],
   "source": [
    "nvidia = df_cleaned[df_cleaned['graphics'].str.contains('NVIDIA')]"
   ]
  },
  {
   "cell_type": "code",
   "execution_count": 85,
   "id": "92af0348",
   "metadata": {},
   "outputs": [
    {
     "data": {
      "text/plain": [
       "470"
      ]
     },
     "execution_count": 85,
     "metadata": {},
     "output_type": "execute_result"
    }
   ],
   "source": [
    "nvidia['graphics'].value_counts().sum()"
   ]
  },
  {
   "cell_type": "code",
   "execution_count": 86,
   "id": "70093b3a",
   "metadata": {},
   "outputs": [],
   "source": [
    "# Goal is to take the average of each graphic cards model\n",
    "# Then to feature engineer them to represent qualities of graphic cards\n",
    "# Less than $875 - Will be Lower \n",
    "# Less than $1750 - Will be Fair\n",
    "# Less than $2625 - Will be Great\n",
    "# Greater will be expensive "
   ]
  },
  {
   "cell_type": "code",
   "execution_count": 87,
   "id": "cca3d611",
   "metadata": {},
   "outputs": [],
   "source": [
    "df_cleaned.loc[df_cleaned['graphics'].str.contains('4050'), 'graphics'] = 'NVIDIA GeForce RTX 4050'\n",
    "df_cleaned.loc[df_cleaned['graphics'].str.contains('3050'), 'graphics'] = 'NVIDIA GeForce RTX 3050'\n",
    "df_cleaned.loc[df_cleaned['graphics'].str.contains('4070'), 'graphics'] = 'NVIDIA GeForce RTX 4070'\n",
    "\n",
    "\n",
    "df_cleaned.loc[df_cleaned['graphics'].str.contains('3080'), 'graphics'] = 'NVIDIA GeForce RTX 3080'\n",
    "df_cleaned.loc[df_cleaned['graphics'].str.contains('4090'), 'graphics'] = 'NVIDIA GeForce RTX 4090'\n",
    "\n",
    "df_cleaned.loc[df_cleaned['graphics'].str.contains('4090'), 'graphics'] = 'NVIDIA GeForce RTX 4090'\n",
    "\n"
   ]
  },
  {
   "cell_type": "code",
   "execution_count": 88,
   "id": "9070edba",
   "metadata": {},
   "outputs": [
    {
     "data": {
      "text/plain": [
       "graphics\n",
       "NVIDIA GeForce RTX 4090                                4135.663333\n",
       "NVIDIA RTX A2000 Laptop GPU                            3482.990000\n",
       "NVIDIA GeForce RTX 4080                                3229.792000\n",
       "NVIDIA GeForce RTX 3080                                2492.905714\n",
       "NVIDIA GeForce RTX 4070                                2266.980000\n",
       "NVIDIA GeForce GTX 1660 Ti Max-Q                       2055.666667\n",
       "NVIDIA GeForce RTX 4060                                1871.416316\n",
       "NVIDIA GeForce RTX 3070                                1860.734833\n",
       "NVIDIA GeForce RTX 3060                                1782.539505\n",
       "NVIDIA T600                                            1749.990000\n",
       "NVIDIA GeForce MX350                                   1504.000000\n",
       "NVIDIA GeForce RTX 4050                                1471.073333\n",
       "NVIDIA GeForce RTX 3050                                1361.064609\n",
       "NVIDIA GeForce GTX 1650                                1283.363580\n",
       "NVIDIA GeForce GTX 1060                                1199.000000\n",
       "NVIDIA GeForce MX450                                   1149.000000\n",
       "NVIDIA GeForce MX550                                   1102.923333\n",
       "NVIDIA T550                                             972.847143\n",
       "NVIDIA Quadro M1200 with 4GB GDDR5 dedicated memory     299.990000\n",
       "Name: price, dtype: float64"
      ]
     },
     "execution_count": 88,
     "metadata": {},
     "output_type": "execute_result"
    }
   ],
   "source": [
    "nvidia.groupby('graphics').mean()['price'].sort_values(ascending = False)"
   ]
  },
  {
   "cell_type": "code",
   "execution_count": 89,
   "id": "c138fd9e",
   "metadata": {},
   "outputs": [],
   "source": [
    "# Less than $875 - Will be Lower \n",
    "# Less than $1750 - Will be Fair\n",
    "# Less than $2625 - Will be Great\n",
    "# Greater will be expensive "
   ]
  },
  {
   "cell_type": "code",
   "execution_count": 90,
   "id": "27e25bc9",
   "metadata": {},
   "outputs": [
    {
     "name": "stderr",
     "output_type": "stream",
     "text": [
      "/var/folders/wt/bqhp8b191ylbfqk6tffwt56h0000gn/T/ipykernel_9314/264843869.py:1: SettingWithCopyWarning: \n",
      "A value is trying to be set on a copy of a slice from a DataFrame.\n",
      "Try using .loc[row_indexer,col_indexer] = value instead\n",
      "\n",
      "See the caveats in the documentation: https://pandas.pydata.org/pandas-docs/stable/user_guide/indexing.html#returning-a-view-versus-a-copy\n",
      "  df_cleaned['graphics_quality'] = 'uhh'\n"
     ]
    }
   ],
   "source": [
    "df_cleaned['graphics_quality'] = 'uhh'\n",
    "\n",
    "df_cleaned.loc[df_cleaned['graphics'].str.contains('4090'), 'graphics_quality'] = 'Very High'\n",
    "df_cleaned.loc[df_cleaned['graphics'].str.contains('4080'), 'graphics_quality'] = 'Very High'\n",
    "df_cleaned.loc[df_cleaned['graphics'].str.contains('A2000'), 'graphics_quality'] = 'Very High'\n",
    "\n",
    "\n",
    "df_cleaned.loc[df_cleaned['graphics'].str.contains('3080'), 'graphics_quality'] = 'High'\n",
    "df_cleaned.loc[df_cleaned['graphics'].str.contains('4070'), 'graphics_quality'] = 'High'\n",
    "df_cleaned.loc[df_cleaned['graphics'].str.contains('1660'), 'graphics_quality'] = 'High'\n",
    "df_cleaned.loc[df_cleaned['graphics'].str.contains('4060'), 'graphics_quality'] = 'High'\n",
    "df_cleaned.loc[df_cleaned['graphics'].str.contains('3070'), 'graphics_quality'] = 'High'\n",
    "df_cleaned.loc[df_cleaned['graphics'].str.contains('3060'), 'graphics_quality'] = 'High'\n",
    "\n",
    "df_cleaned.loc[df_cleaned['graphics'].str.contains('T600'), 'graphics_quality'] = 'Fair'\n",
    "df_cleaned.loc[df_cleaned['graphics'].str.contains('MX350'), 'graphics_quality'] = 'Fair'\n",
    "df_cleaned.loc[df_cleaned['graphics'].str.contains('4050'), 'graphics_quality'] = 'Fair'\n",
    "df_cleaned.loc[df_cleaned['graphics'].str.contains('3050'), 'graphics_quality'] = 'Fair'\n",
    "df_cleaned.loc[df_cleaned['graphics'].str.contains('1650'), 'graphics_quality'] = 'Fair'\n",
    "df_cleaned.loc[df_cleaned['graphics'].str.contains('1060'), 'graphics_quality'] = 'Fair'\n",
    "df_cleaned.loc[df_cleaned['graphics'].str.contains('MX450'), 'graphics_quality'] = 'Fair'\n",
    "df_cleaned.loc[df_cleaned['graphics'].str.contains('MX550'), 'graphics_quality'] = 'Fair'\n",
    "df_cleaned.loc[df_cleaned['graphics'].str.contains('T550'), 'graphics_quality'] = 'Fair'\n",
    "df_cleaned.loc[df_cleaned['graphics'].str.contains('2050'), 'graphics_quality'] = 'Fair'\n",
    "df_cleaned.loc[df_cleaned['graphics'].str.contains('2070'), 'graphics_quality'] = 'Fair'\n",
    "\n",
    "df_cleaned.loc[df_cleaned['graphics'].str.contains('M1200'), 'graphics_quality'] = 'Low'\n",
    "df_cleaned.loc[df_cleaned['graphics'].str.contains('1050'), 'graphics_quality'] = 'Low'\n",
    "\n"
   ]
  },
  {
   "cell_type": "code",
   "execution_count": 91,
   "id": "a32f84c4",
   "metadata": {},
   "outputs": [
    {
     "data": {
      "text/plain": [
       "price               473\n",
       "type                473\n",
       "os                  473\n",
       "Ghz                 473\n",
       "Cpu                 473\n",
       "Ssd                 473\n",
       "graphics            473\n",
       "ts_info             473\n",
       "resolution          473\n",
       "memory/ram          473\n",
       "Brand               473\n",
       "graphics_quality    473\n",
       "dtype: int64"
      ]
     },
     "execution_count": 91,
     "metadata": {},
     "output_type": "execute_result"
    }
   ],
   "source": [
    "df_cleaned[df_cleaned['graphics_quality'] != 'uhh'].count()"
   ]
  },
  {
   "cell_type": "code",
   "execution_count": 92,
   "id": "88faf09b",
   "metadata": {},
   "outputs": [],
   "source": [
    "Intel_graphics = df_cleaned[df_cleaned['graphics'].str.contains('Intel')]"
   ]
  },
  {
   "cell_type": "code",
   "execution_count": 93,
   "id": "bab1eab7",
   "metadata": {},
   "outputs": [
    {
     "data": {
      "text/plain": [
       "array(['Intel Iris Xe Graphics', 'Intel Iris X? Graphics',\n",
       "       'Intel UHD Graphics', 'Intel HD Graphics',\n",
       "       'Intel Iris Plus Graphics', 'Intel UHD Graphics 620',\n",
       "       'Intel UHD Graphics 630', 'Intel HD Graphics 520',\n",
       "       'Intel Iris Plus Graphics 640', 'Intel UHD Graphics 615',\n",
       "       'Intel Iris Graphics 540'], dtype=object)"
      ]
     },
     "execution_count": 93,
     "metadata": {},
     "output_type": "execute_result"
    }
   ],
   "source": [
    "Intel_graphics['graphics'].unique()"
   ]
  },
  {
   "cell_type": "code",
   "execution_count": 94,
   "id": "ccc1835b",
   "metadata": {
    "scrolled": true
   },
   "outputs": [
    {
     "data": {
      "text/plain": [
       "285"
      ]
     },
     "execution_count": 94,
     "metadata": {},
     "output_type": "execute_result"
    }
   ],
   "source": [
    "Intel_graphics['graphics'].value_counts().sum()"
   ]
  },
  {
   "cell_type": "code",
   "execution_count": 95,
   "id": "c2534828",
   "metadata": {},
   "outputs": [],
   "source": [
    "df_cleaned.loc[df_cleaned['graphics'].str.contains('Intel UHD'), 'graphics'] = 'Intel UHD Graphics'\n",
    "df_cleaned.loc[df_cleaned['graphics'].str.contains('Intel HD'), 'graphics'] = 'Intel HD Graphics'\n",
    "df_cleaned.loc[df_cleaned['graphics'].str.contains('Intel Iris'), 'graphics'] = 'Intel Iris Graphics'\n",
    "\n"
   ]
  },
  {
   "cell_type": "code",
   "execution_count": 96,
   "id": "03f3ef44",
   "metadata": {},
   "outputs": [],
   "source": [
    "df_cleaned.loc[df_cleaned['graphics'].str.contains('Intel Iris'), 'graphics_quality'] = 'Fair'\n",
    "df_cleaned.loc[df_cleaned['graphics'].str.contains('Intel HD'), 'graphics_quality'] = 'Low'\n",
    "df_cleaned.loc[df_cleaned['graphics'].str.contains('Intel UHD'), 'graphics_quality'] = 'Low'\n"
   ]
  },
  {
   "cell_type": "code",
   "execution_count": 97,
   "id": "72c32118",
   "metadata": {},
   "outputs": [
    {
     "data": {
      "text/plain": [
       "array(['Fair', 'High', 'uhh', 'Low', 'Very High'], dtype=object)"
      ]
     },
     "execution_count": 97,
     "metadata": {},
     "output_type": "execute_result"
    }
   ],
   "source": [
    "df_cleaned['graphics_quality'].unique()"
   ]
  },
  {
   "cell_type": "code",
   "execution_count": 98,
   "id": "13f2069c",
   "metadata": {},
   "outputs": [
    {
     "data": {
      "text/plain": [
       "price               758\n",
       "type                758\n",
       "os                  758\n",
       "Ghz                 758\n",
       "Cpu                 758\n",
       "Ssd                 758\n",
       "graphics            758\n",
       "ts_info             758\n",
       "resolution          758\n",
       "memory/ram          758\n",
       "Brand               758\n",
       "graphics_quality    758\n",
       "dtype: int64"
      ]
     },
     "execution_count": 98,
     "metadata": {},
     "output_type": "execute_result"
    }
   ],
   "source": [
    "df_cleaned[df_cleaned['graphics_quality'] != 'uhh'].count()"
   ]
  },
  {
   "cell_type": "code",
   "execution_count": 99,
   "id": "0084b4fb",
   "metadata": {},
   "outputs": [
    {
     "data": {
      "text/plain": [
       "60"
      ]
     },
     "execution_count": 99,
     "metadata": {},
     "output_type": "execute_result"
    }
   ],
   "source": [
    "AMD = df_cleaned[df_cleaned['graphics'].str.contains('AMD')]\n",
    "AMD['graphics'].count()"
   ]
  },
  {
   "cell_type": "code",
   "execution_count": 100,
   "id": "3650072a",
   "metadata": {},
   "outputs": [
    {
     "data": {
      "text/plain": [
       "(819, 12)"
      ]
     },
     "execution_count": 100,
     "metadata": {},
     "output_type": "execute_result"
    }
   ],
   "source": [
    "df_cleaned.shape"
   ]
  },
  {
   "cell_type": "code",
   "execution_count": 101,
   "id": "1fa85445",
   "metadata": {},
   "outputs": [
    {
     "data": {
      "text/plain": [
       "graphics\n",
       "AMD Radeon 660M                                   1\n",
       "AMD Radeon RX 6700M                               1\n",
       "AMD Radeon RX 6800M                               1\n",
       "AMD Radeon RX Vega 10                             1\n",
       "AMD Radeon RX Vega 11                             1\n",
       "AMD Radeon Vega 3                                 1\n",
       "AMD Radeon Vega 7 Graphics                        1\n",
       "AMD Radeon graphics                               1\n",
       "AMD Radeon 8 Graphics                             2\n",
       "AMD Radeon Graphics Microsoft Surface Edition     2\n",
       "AMD Radeon Vega 6                                 4\n",
       "AMD Radeon Vega 8                                 8\n",
       "AMD Radeon 680M                                  10\n",
       "AMD Radeon Graphics                              26\n",
       "Name: price, dtype: int64"
      ]
     },
     "execution_count": 101,
     "metadata": {},
     "output_type": "execute_result"
    }
   ],
   "source": [
    "AMD.groupby('graphics').count()['price'].sort_values(ascending = True)"
   ]
  },
  {
   "cell_type": "code",
   "execution_count": 102,
   "id": "dad8e77f",
   "metadata": {},
   "outputs": [
    {
     "data": {
      "text/plain": [
       "graphics\n",
       "AMD Radeon 8 Graphics                             499.990\n",
       "AMD Radeon Vega 3                                 599.000\n",
       "AMD Radeon Graphics Microsoft Surface Edition     637.495\n",
       "AMD Radeon Graphics                               699.905\n",
       "AMD Radeon RX Vega 11                             849.000\n",
       "AMD Radeon graphics                              1009.000\n",
       "AMD Radeon Vega 7 Graphics                       1029.000\n",
       "AMD Radeon 660M                                  1049.990\n",
       "AMD Radeon Vega 6                                1137.490\n",
       "AMD Radeon RX Vega 10                            1148.000\n",
       "AMD Radeon 680M                                  1188.990\n",
       "AMD Radeon Vega 8                                1239.990\n",
       "AMD Radeon RX 6700M                              1649.000\n",
       "AMD Radeon RX 6800M                              2199.000\n",
       "Name: price, dtype: float64"
      ]
     },
     "execution_count": 102,
     "metadata": {},
     "output_type": "execute_result"
    }
   ],
   "source": [
    "AMD.groupby('graphics').mean()['price'].sort_values(ascending = True)"
   ]
  },
  {
   "cell_type": "code",
   "execution_count": null,
   "id": "369aad6a",
   "metadata": {},
   "outputs": [],
   "source": []
  },
  {
   "cell_type": "code",
   "execution_count": 103,
   "id": "b9aebd82",
   "metadata": {},
   "outputs": [],
   "source": [
    "#df_cleaned.loc[df_cleaned['graphics'].str.contains('Radeon&Graphics'), 'graphics'] = 'AMD Radeon Graphics' \n",
    "df_cleaned.loc[df_cleaned['graphics'].str.contains('Radeon') & df_cleaned['graphics'].str.contains('graphics|Graphics'), 'graphics'] = 'AMD Radeon Graphics'\n",
    "df_cleaned.loc[df_cleaned['graphics'].str.contains('Radeon RX'), 'graphics'] = 'AMD Radeon RX Graphics' \n"
   ]
  },
  {
   "cell_type": "code",
   "execution_count": 104,
   "id": "b39d9427",
   "metadata": {},
   "outputs": [],
   "source": [
    "df_cleaned.loc[df_cleaned['graphics'].str.contains('Radeon Graphics'), 'graphics_quality'] = 'Fair'\n",
    "df_cleaned.loc[df_cleaned['graphics'].str.contains('Radeon RX'), 'graphics_quality'] = 'Low'\n",
    "df_cleaned.loc[df_cleaned['graphics'].str.contains('Vega 6'), 'graphics_quality'] = 'Fair'\n",
    "df_cleaned.loc[df_cleaned['graphics'].str.contains('Vega 8'), 'graphics_quality'] = 'Low'\n",
    "df_cleaned.loc[df_cleaned['graphics'].str.contains('Vega 3'), 'graphics_quality'] = 'Low'\n",
    "df_cleaned.loc[df_cleaned['graphics'].str.contains('Radeon 6'), 'graphics_quality'] = 'Fair'\n"
   ]
  },
  {
   "cell_type": "code",
   "execution_count": 105,
   "id": "9cb0074c",
   "metadata": {},
   "outputs": [
    {
     "data": {
      "text/plain": [
       "array(['AMD Radeon Graphics', 'AMD Radeon 660M', 'AMD Radeon 680M',\n",
       "       'AMD Radeon Vega 6', 'AMD Radeon Vega 8', 'AMD Radeon RX Graphics',\n",
       "       'AMD Radeon Vega 3'], dtype=object)"
      ]
     },
     "execution_count": 105,
     "metadata": {},
     "output_type": "execute_result"
    }
   ],
   "source": [
    "AMD = df_cleaned[df_cleaned['graphics'].str.contains('AMD')]\n",
    "AMD['graphics'].unique()"
   ]
  },
  {
   "cell_type": "code",
   "execution_count": 106,
   "id": "c70685b1",
   "metadata": {},
   "outputs": [
    {
     "data": {
      "text/html": [
       "<div>\n",
       "<style scoped>\n",
       "    .dataframe tbody tr th:only-of-type {\n",
       "        vertical-align: middle;\n",
       "    }\n",
       "\n",
       "    .dataframe tbody tr th {\n",
       "        vertical-align: top;\n",
       "    }\n",
       "\n",
       "    .dataframe thead th {\n",
       "        text-align: right;\n",
       "    }\n",
       "</style>\n",
       "<table border=\"1\" class=\"dataframe\">\n",
       "  <thead>\n",
       "    <tr style=\"text-align: right;\">\n",
       "      <th></th>\n",
       "      <th>price</th>\n",
       "      <th>type</th>\n",
       "      <th>os</th>\n",
       "      <th>Ghz</th>\n",
       "      <th>Cpu</th>\n",
       "      <th>Ssd</th>\n",
       "      <th>graphics</th>\n",
       "      <th>ts_info</th>\n",
       "      <th>resolution</th>\n",
       "      <th>memory/ram</th>\n",
       "      <th>Brand</th>\n",
       "      <th>graphics_quality</th>\n",
       "    </tr>\n",
       "  </thead>\n",
       "  <tbody>\n",
       "    <tr>\n",
       "      <th>1331</th>\n",
       "      <td>1099.0</td>\n",
       "      <td>Gaming</td>\n",
       "      <td>Windows 11</td>\n",
       "      <td>2.0</td>\n",
       "      <td>Intel Core i5</td>\n",
       "      <td>2000</td>\n",
       "      <td>ARC A370M</td>\n",
       "      <td>0</td>\n",
       "      <td>1920 x 1080</td>\n",
       "      <td>16</td>\n",
       "      <td>MSI</td>\n",
       "      <td>uhh</td>\n",
       "    </tr>\n",
       "  </tbody>\n",
       "</table>\n",
       "</div>"
      ],
      "text/plain": [
       "       price    type          os  Ghz            Cpu   Ssd   graphics  \\\n",
       "1331  1099.0  Gaming  Windows 11  2.0  Intel Core i5  2000  ARC A370M   \n",
       "\n",
       "      ts_info   resolution  memory/ram Brand graphics_quality  \n",
       "1331        0  1920 x 1080          16   MSI              uhh  "
      ]
     },
     "execution_count": 106,
     "metadata": {},
     "output_type": "execute_result"
    }
   ],
   "source": [
    "df_cleaned[df_cleaned['graphics_quality'] == 'uhh']"
   ]
  },
  {
   "cell_type": "code",
   "execution_count": 107,
   "id": "704c6485",
   "metadata": {},
   "outputs": [
    {
     "data": {
      "text/plain": [
       "(818, 12)"
      ]
     },
     "execution_count": 107,
     "metadata": {},
     "output_type": "execute_result"
    }
   ],
   "source": [
    "df_cleaned = df_cleaned.drop(df_cleaned[df_cleaned['graphics'].str.contains('ARC')].index)\n",
    "\n",
    "df_cleaned.shape"
   ]
  },
  {
   "cell_type": "markdown",
   "id": "da4c8ea0",
   "metadata": {},
   "source": [
    "## Resolution"
   ]
  },
  {
   "cell_type": "code",
   "execution_count": 108,
   "id": "b2169657",
   "metadata": {},
   "outputs": [
    {
     "data": {
      "text/plain": [
       "array(['1920 x 1080', '3072 x 1920', '1920 x 1200', '1920x1080',\n",
       "       '1366 x 768', '3840 x 2160', '2256 x 1504', '2736 x 1824',\n",
       "       '2560 x 1600', '2496 x 1664', '1920 x 1028', '2880 x 1800',\n",
       "       '2560 x 1440', '1600 x 900', '2220 x 1080', '2800x1620',\n",
       "       '2400 x 1600', '3840 x 2400', '2880 x 1920', '2240 x 1400',\n",
       "       '2880 x 1620', '3200 x 2000', '3000 x 2000', '1536 x 1024',\n",
       "       '3240 x 2160', '2736 x 1824 (267 PPI)', '1920 x 1280',\n",
       "       '2260 x 1400', '3300 x 2200',\n",
       "       'UHD+ 16:10 (3840 x 2400 WQUXGA) / FHD+ 16:10 (1920 x 1200, WUXGA)'],\n",
       "      dtype=object)"
      ]
     },
     "execution_count": 108,
     "metadata": {},
     "output_type": "execute_result"
    }
   ],
   "source": [
    "df_cleaned['resolution'].unique()"
   ]
  },
  {
   "cell_type": "code",
   "execution_count": 109,
   "id": "422f99d0",
   "metadata": {},
   "outputs": [],
   "source": [
    "df_cleaned['resolution'] = df_cleaned['resolution'].str.replace(' ','')"
   ]
  },
  {
   "cell_type": "code",
   "execution_count": 110,
   "id": "4200e015",
   "metadata": {
    "scrolled": true
   },
   "outputs": [
    {
     "data": {
      "text/plain": [
       "array(['1920x1080', '3072x1920', '1920x1200', '1366x768', '3840x2160',\n",
       "       '2256x1504', '2736x1824', '2560x1600', '2496x1664', '1920x1028',\n",
       "       '2880x1800', '2560x1440', '1600x900', '2220x1080', '2800x1620',\n",
       "       '2400x1600', '3840x2400', '2880x1920', '2240x1400', '2880x1620',\n",
       "       '3200x2000', '3000x2000', '1536x1024', '3240x2160',\n",
       "       '2736x1824(267PPI)', '1920x1280', '2260x1400', '3300x2200',\n",
       "       'UHD+16:10(3840x2400WQUXGA)/FHD+16:10(1920x1200,WUXGA)'],\n",
       "      dtype=object)"
      ]
     },
     "execution_count": 110,
     "metadata": {},
     "output_type": "execute_result"
    }
   ],
   "source": [
    "df_cleaned['resolution'].unique()"
   ]
  },
  {
   "cell_type": "code",
   "execution_count": 111,
   "id": "0cec65df",
   "metadata": {},
   "outputs": [],
   "source": [
    "df_cleaned.loc[df_cleaned['resolution'] == 'UHD+16:10(3840x2400WQUXGA)/FHD+16:10(1920x1200,WUXGA)', 'resolution'] = '1920x1200'\n",
    "df_cleaned.loc[df_cleaned['resolution'] == '2560x1600(2.5K)', 'resolution'] = '2560x1600'\n",
    "df_cleaned.loc[df_cleaned['resolution'].str.contains('2736x1824'), 'resolution'] = '2736x1824'"
   ]
  },
  {
   "cell_type": "code",
   "execution_count": 112,
   "id": "8e876fde",
   "metadata": {},
   "outputs": [
    {
     "data": {
      "text/plain": [
       "array(['1920x1080', '3072x1920', '1920x1200', '1366x768', '3840x2160',\n",
       "       '2256x1504', '2736x1824', '2560x1600', '2496x1664', '1920x1028',\n",
       "       '2880x1800', '2560x1440', '1600x900', '2220x1080', '2800x1620',\n",
       "       '2400x1600', '3840x2400', '2880x1920', '2240x1400', '2880x1620',\n",
       "       '3200x2000', '3000x2000', '1536x1024', '3240x2160', '1920x1280',\n",
       "       '2260x1400', '3300x2200'], dtype=object)"
      ]
     },
     "execution_count": 112,
     "metadata": {},
     "output_type": "execute_result"
    }
   ],
   "source": [
    "df_cleaned['resolution'].unique()"
   ]
  },
  {
   "cell_type": "code",
   "execution_count": 113,
   "id": "906f4bb0",
   "metadata": {},
   "outputs": [],
   "source": [
    "resolutions_ordered = ['1366x768', '1536x1024', '1920x1028', '1920x1080', '1920x1200', \n",
    "                       '1920x1280', '2240x1400', '2256x1504', '2260x1400', '2496x1664', \n",
    "                       '2560x1440', '2560x1600', '2736x1824', '2800x1620', '2880x1800', \n",
    "                       '2880x1920', '2880x1620', '3000x2000', '3072x1920', '3200x2000', \n",
    "                       '3240x2160', '3300x2200', '3840x2160', '3840x2400']\n",
    "\n",
    "df_cleaned['resolution'] = pd.Categorical(df_cleaned['resolution'], categories = resolutions_ordered)\n"
   ]
  },
  {
   "cell_type": "code",
   "execution_count": 114,
   "id": "05dc7b0c",
   "metadata": {
    "scrolled": true
   },
   "outputs": [
    {
     "name": "stdout",
     "output_type": "stream",
     "text": [
      "<class 'pandas.core.frame.DataFrame'>\n",
      "Int64Index: 818 entries, 64 to 3595\n",
      "Data columns (total 12 columns):\n",
      " #   Column            Non-Null Count  Dtype   \n",
      "---  ------            --------------  -----   \n",
      " 0   price             818 non-null    float64 \n",
      " 1   type              818 non-null    object  \n",
      " 2   os                818 non-null    category\n",
      " 3   Ghz               818 non-null    float64 \n",
      " 4   Cpu               818 non-null    object  \n",
      " 5   Ssd               818 non-null    int64   \n",
      " 6   graphics          818 non-null    object  \n",
      " 7   ts_info           818 non-null    int64   \n",
      " 8   resolution        795 non-null    category\n",
      " 9   memory/ram        818 non-null    int64   \n",
      " 10  Brand             818 non-null    object  \n",
      " 11  graphics_quality  818 non-null    object  \n",
      "dtypes: category(2), float64(2), int64(3), object(5)\n",
      "memory usage: 72.7+ KB\n"
     ]
    }
   ],
   "source": [
    "df_cleaned.info()"
   ]
  },
  {
   "cell_type": "code",
   "execution_count": null,
   "id": "7e53935a",
   "metadata": {},
   "outputs": [],
   "source": []
  },
  {
   "cell_type": "markdown",
   "id": "1c11f232",
   "metadata": {},
   "source": [
    "# Data Exploration"
   ]
  },
  {
   "cell_type": "code",
   "execution_count": 115,
   "id": "dd8db2bc",
   "metadata": {},
   "outputs": [
    {
     "data": {
      "image/png": "[encoded data removed]",
      "text/plain": [
       "<Figure size 640x480 with 1 Axes>"
      ]
     },
     "metadata": {},
     "output_type": "display_data"
    }
   ],
   "source": [
    "sns.histplot(data=df_cleaned, x = 'price',bins= 100)\n",
    "plt.show()"
   ]
  },
  {
   "cell_type": "code",
   "execution_count": 116,
   "id": "bc05fbb7",
   "metadata": {},
   "outputs": [
    {
     "data": {
      "text/plain": [
       "<Axes: xlabel='Ghz', ylabel='price'>"
      ]
     },
     "execution_count": 116,
     "metadata": {},
     "output_type": "execute_result"
    },
    {
     "data": {
      "image/png": "[encoded data removed]",
      "text/plain": [
       "<Figure size 640x480 with 1 Axes>"
      ]
     },
     "metadata": {},
     "output_type": "display_data"
    }
   ],
   "source": [
    "sns.scatterplot(data = df_cleaned, x = 'Ghz', y ='price')"
   ]
  },
  {
   "cell_type": "code",
   "execution_count": 117,
   "id": "23636c9a",
   "metadata": {},
   "outputs": [
    {
     "data": {
      "image/png": "[encoded data removed]",
      "text/plain": [
       "<Figure size 500x500 with 1 Axes>"
      ]
     },
     "metadata": {},
     "output_type": "display_data"
    }
   ],
   "source": [
    "sns.catplot(data = df_cleaned, x = 'os', y = 'price')\n",
    "plt.show()"
   ]
  },
  {
   "cell_type": "code",
   "execution_count": 118,
   "id": "b90214bb",
   "metadata": {},
   "outputs": [
    {
     "data": {
      "text/plain": [
       "<seaborn.axisgrid.FacetGrid at 0x7f9e33952970>"
      ]
     },
     "execution_count": 118,
     "metadata": {},
     "output_type": "execute_result"
    },
    {
     "data": {
      "image/png": "[encoded data removed]",
      "text/plain": [
       "<Figure size 500x500 with 1 Axes>"
      ]
     },
     "metadata": {},
     "output_type": "display_data"
    }
   ],
   "source": [
    "sns.lmplot(data = df_cleaned, x = 'Ssd', y = 'price')"
   ]
  },
  {
   "cell_type": "code",
   "execution_count": 119,
   "id": "0370b408",
   "metadata": {},
   "outputs": [],
   "source": [
    "# Ordinally order the data based on the means of the \n",
    "brand_order = df_cleaned.groupby('Brand').mean()['price'].sort_values(ascending = True).index"
   ]
  },
  {
   "cell_type": "code",
   "execution_count": 120,
   "id": "15e1d378",
   "metadata": {},
   "outputs": [
    {
     "data": {
      "text/plain": [
       "['Lenovo', 'MSI', 'MSI', 'Acer', 'HP', ..., 'MSI', 'MSI', 'MSI', 'MSI', 'Lenovo']\n",
       "Length: 818\n",
       "Categories (8, object): ['Dell', 'HP', 'Microsoft', 'Lenovo', 'Acer', 'ASUS', 'MSI', 'Razer']"
      ]
     },
     "execution_count": 120,
     "metadata": {},
     "output_type": "execute_result"
    }
   ],
   "source": [
    "# Ordered by mean\n",
    "pd.Categorical(df_cleaned['Brand'], categories = brand_order)"
   ]
  },
  {
   "cell_type": "code",
   "execution_count": 121,
   "id": "06dd87e5",
   "metadata": {},
   "outputs": [
    {
     "data": {
      "text/plain": [
       "<Axes: xlabel='Brand', ylabel='price'>"
      ]
     },
     "execution_count": 121,
     "metadata": {},
     "output_type": "execute_result"
    },
    {
     "data": {
      "image/png": "[encoded data removed]",
      "text/plain": [
       "<Figure size 640x480 with 1 Axes>"
      ]
     },
     "metadata": {},
     "output_type": "display_data"
    }
   ],
   "source": [
    "sns.boxplot(data = df_cleaned, x = 'Brand', y = 'price', order = brand_order)"
   ]
  },
  {
   "cell_type": "code",
   "execution_count": 122,
   "id": "d2b9438d",
   "metadata": {},
   "outputs": [
    {
     "name": "stdout",
     "output_type": "stream",
     "text": [
      "Cpu\n",
      "Ryzen 3           350.472500\n",
      "Intel Core i3     681.486667\n",
      "Ryzen 5           939.174872\n",
      "Intel Core i5    1033.228615\n",
      "Ryzen 7          1534.522245\n",
      "Intel Core i7    1551.742773\n",
      "Ryzen 9          1805.809167\n",
      "Intel Core i9    2544.351667\n",
      "Name: price, dtype: float64\n"
     ]
    }
   ],
   "source": [
    "# Order by mean \n",
    "print(df_cleaned.groupby('Cpu').mean()['price'].sort_values(ascending = True))\n",
    "\n",
    "cpu_order = df_cleaned.groupby('Cpu').mean()['price'].sort_values(ascending = True).index\n"
   ]
  },
  {
   "cell_type": "code",
   "execution_count": 123,
   "id": "07af43f2",
   "metadata": {},
   "outputs": [
    {
     "data": {
      "text/plain": [
       "(array([0, 1, 2, 3, 4, 5, 6, 7]),\n",
       " [Text(0, 0, 'Ryzen 3'),\n",
       "  Text(1, 0, 'Intel Core i3'),\n",
       "  Text(2, 0, 'Ryzen 5'),\n",
       "  Text(3, 0, 'Intel Core i5'),\n",
       "  Text(4, 0, 'Ryzen 7'),\n",
       "  Text(5, 0, 'Intel Core i7'),\n",
       "  Text(6, 0, 'Ryzen 9'),\n",
       "  Text(7, 0, 'Intel Core i9')])"
      ]
     },
     "execution_count": 123,
     "metadata": {},
     "output_type": "execute_result"
    },
    {
     "data": {
      "image/png": "[encoded data removed]",
      "text/plain": [
       "<Figure size 640x480 with 1 Axes>"
      ]
     },
     "metadata": {},
     "output_type": "display_data"
    }
   ],
   "source": [
    "sns.boxplot(data = df_cleaned, x= 'Cpu', y= 'price', order = cpu_order)\n",
    "plt.xticks(rotation = 90)"
   ]
  },
  {
   "cell_type": "code",
   "execution_count": 124,
   "id": "91baa2d8",
   "metadata": {},
   "outputs": [],
   "source": [
    "df_cleaned['Cpu'] = pd.Categorical(df_cleaned['Cpu'], categories = cpu_order)"
   ]
  },
  {
   "cell_type": "code",
   "execution_count": 125,
   "id": "b6d30919",
   "metadata": {},
   "outputs": [
    {
     "data": {
      "text/plain": [
       "(array([ 0,  1,  2,  3,  4,  5,  6,  7,  8,  9, 10, 11, 12, 13, 14, 15, 16,\n",
       "        17, 18, 19, 20, 21, 22, 23]),\n",
       " [Text(0, 0, '1366x768'),\n",
       "  Text(1, 0, '1536x1024'),\n",
       "  Text(2, 0, '1920x1028'),\n",
       "  Text(3, 0, '1920x1080'),\n",
       "  Text(4, 0, '1920x1200'),\n",
       "  Text(5, 0, '1920x1280'),\n",
       "  Text(6, 0, '2240x1400'),\n",
       "  Text(7, 0, '2256x1504'),\n",
       "  Text(8, 0, '2260x1400'),\n",
       "  Text(9, 0, '2496x1664'),\n",
       "  Text(10, 0, '2560x1440'),\n",
       "  Text(11, 0, '2560x1600'),\n",
       "  Text(12, 0, '2736x1824'),\n",
       "  Text(13, 0, '2800x1620'),\n",
       "  Text(14, 0, '2880x1800'),\n",
       "  Text(15, 0, '2880x1920'),\n",
       "  Text(16, 0, '2880x1620'),\n",
       "  Text(17, 0, '3000x2000'),\n",
       "  Text(18, 0, '3072x1920'),\n",
       "  Text(19, 0, '3200x2000'),\n",
       "  Text(20, 0, '3240x2160'),\n",
       "  Text(21, 0, '3300x2200'),\n",
       "  Text(22, 0, '3840x2160'),\n",
       "  Text(23, 0, '3840x2400')])"
      ]
     },
     "execution_count": 125,
     "metadata": {},
     "output_type": "execute_result"
    },
    {
     "data": {
      "image/png": "[encoded data removed]",
      "text/plain": [
       "<Figure size 500x500 with 1 Axes>"
      ]
     },
     "metadata": {},
     "output_type": "display_data"
    }
   ],
   "source": [
    "sns.catplot(data = df_cleaned, x = 'resolution', y = 'price', order = resolutions_ordered)\n",
    "plt.xticks(rotation = 90)"
   ]
  },
  {
   "cell_type": "code",
   "execution_count": 126,
   "id": "ad0cfa14",
   "metadata": {},
   "outputs": [
    {
     "data": {
      "text/plain": [
       "<seaborn.axisgrid.FacetGrid at 0x7f9e34184a30>"
      ]
     },
     "execution_count": 126,
     "metadata": {},
     "output_type": "execute_result"
    },
    {
     "data": {
      "image/png": "[encoded data removed]",
      "text/plain": [
       "<Figure size 500x500 with 1 Axes>"
      ]
     },
     "metadata": {},
     "output_type": "display_data"
    }
   ],
   "source": [
    "sns.lmplot(data = df_cleaned, x = 'memory/ram', y = 'price')"
   ]
  },
  {
   "cell_type": "code",
   "execution_count": 127,
   "id": "5c71434a",
   "metadata": {},
   "outputs": [
    {
     "name": "stdout",
     "output_type": "stream",
     "text": [
      "type\n",
      "Home / Personal      994.907176\n",
      "Everyday Value      1179.466316\n",
      "Work / Business     1199.626371\n",
      "Content Creation    1354.109808\n",
      "Versatile           1565.695238\n",
      "Gaming              1637.981205\n",
      "Name: price, dtype: float64\n"
     ]
    }
   ],
   "source": [
    "print(df_cleaned.groupby('type').mean()['price'].sort_values(ascending = True))\n",
    "type_order = df_cleaned.groupby('type').mean()['price'].sort_values(ascending = True).index"
   ]
  },
  {
   "cell_type": "code",
   "execution_count": 128,
   "id": "95bfddab",
   "metadata": {},
   "outputs": [
    {
     "data": {
      "text/plain": [
       "(array([0, 1, 2, 3, 4, 5]),\n",
       " [Text(0, 0, 'Home / Personal'),\n",
       "  Text(1, 0, 'Everyday Value'),\n",
       "  Text(2, 0, 'Work / Business'),\n",
       "  Text(3, 0, 'Content Creation'),\n",
       "  Text(4, 0, 'Versatile'),\n",
       "  Text(5, 0, 'Gaming')])"
      ]
     },
     "execution_count": 128,
     "metadata": {},
     "output_type": "execute_result"
    },
    {
     "data": {
      "image/png": "[encoded data removed]",
      "text/plain": [
       "<Figure size 640x480 with 1 Axes>"
      ]
     },
     "metadata": {},
     "output_type": "display_data"
    }
   ],
   "source": [
    "sns.boxplot(data = df_cleaned, x= 'type', y = 'price', order = type_order)\n",
    "plt.xticks(rotation = 90)"
   ]
  },
  {
   "cell_type": "code",
   "execution_count": 129,
   "id": "94a5a1c0",
   "metadata": {},
   "outputs": [],
   "source": [
    "df_cleaned['type'] = pd.Categorical(df_cleaned['type'], categories = type_order)"
   ]
  },
  {
   "cell_type": "code",
   "execution_count": 130,
   "id": "a51e0ed1",
   "metadata": {},
   "outputs": [],
   "source": [
    "graphics_order = df_cleaned.groupby('graphics_quality')['price'].mean().sort_values(ascending = True).index"
   ]
  },
  {
   "cell_type": "code",
   "execution_count": 131,
   "id": "07de2a71",
   "metadata": {},
   "outputs": [
    {
     "data": {
      "text/plain": [
       "(array([0, 1, 2, 3]),\n",
       " [Text(0, 0, 'Low'),\n",
       "  Text(1, 0, 'Fair'),\n",
       "  Text(2, 0, 'High'),\n",
       "  Text(3, 0, 'Very High')])"
      ]
     },
     "execution_count": 131,
     "metadata": {},
     "output_type": "execute_result"
    },
    {
     "data": {
      "image/png": "[encoded data removed]",
      "text/plain": [
       "<Figure size 640x480 with 1 Axes>"
      ]
     },
     "metadata": {},
     "output_type": "display_data"
    }
   ],
   "source": [
    "sns.boxplot(data = df_cleaned, x= 'graphics_quality', y = 'price', order = graphics_order)\n",
    "plt.xticks(rotation = 90)"
   ]
  },
  {
   "cell_type": "code",
   "execution_count": 132,
   "id": "90e5352b",
   "metadata": {
    "scrolled": true
   },
   "outputs": [],
   "source": [
    "df_cleaned['graphics_quality'] = pd.Categorical(df_cleaned['graphics_quality'], categories = graphics_order)"
   ]
  },
  {
   "cell_type": "code",
   "execution_count": 133,
   "id": "e7c92fd9",
   "metadata": {},
   "outputs": [
    {
     "data": {
      "text/plain": [
       "price                0\n",
       "type                 0\n",
       "os                   0\n",
       "Ghz                  0\n",
       "Cpu                  0\n",
       "Ssd                  0\n",
       "graphics             0\n",
       "ts_info              0\n",
       "resolution          23\n",
       "memory/ram           0\n",
       "Brand                0\n",
       "graphics_quality     0\n",
       "dtype: int64"
      ]
     },
     "execution_count": 133,
     "metadata": {},
     "output_type": "execute_result"
    }
   ],
   "source": [
    "df_cleaned.isnull().sum()"
   ]
  },
  {
   "cell_type": "code",
   "execution_count": 134,
   "id": "01a35aac",
   "metadata": {},
   "outputs": [],
   "source": [
    "# Data Preprocessing "
   ]
  },
  {
   "cell_type": "code",
   "execution_count": 135,
   "id": "18a85f0b",
   "metadata": {},
   "outputs": [],
   "source": [
    "from sklearn.preprocessing import LabelEncoder\n",
    "label_encoder = LabelEncoder()\n",
    "modeldf = df_cleaned.copy()\n",
    "\n",
    "modeldf['resolution'] = label_encoder.fit_transform(modeldf['resolution'])\n",
    "modeldf['memory/ram'] = label_encoder.fit_transform(modeldf['memory/ram'])\n",
    "modeldf['Ssd'] = label_encoder.fit_transform(modeldf['Ssd'])\n",
    "modeldf['Brand'] = label_encoder.fit_transform(modeldf['Brand'])\n",
    "modeldf['Cpu'] = label_encoder.fit_transform(modeldf['Cpu'])\n",
    "modeldf['os'] = label_encoder.fit_transform(modeldf['os'])\n",
    "modeldf['type'] = label_encoder.fit_transform(modeldf['type'])\n",
    "modeldf['graphics_quality'] = label_encoder.fit_transform(modeldf['graphics_quality'])\n"
   ]
  },
  {
   "cell_type": "code",
   "execution_count": 136,
   "id": "32c436fc",
   "metadata": {},
   "outputs": [
    {
     "data": {
      "text/html": [
       "<div>\n",
       "<style scoped>\n",
       "    .dataframe tbody tr th:only-of-type {\n",
       "        vertical-align: middle;\n",
       "    }\n",
       "\n",
       "    .dataframe tbody tr th {\n",
       "        vertical-align: top;\n",
       "    }\n",
       "\n",
       "    .dataframe thead th {\n",
       "        text-align: right;\n",
       "    }\n",
       "</style>\n",
       "<table border=\"1\" class=\"dataframe\">\n",
       "  <thead>\n",
       "    <tr style=\"text-align: right;\">\n",
       "      <th></th>\n",
       "      <th>price</th>\n",
       "      <th>type</th>\n",
       "      <th>os</th>\n",
       "      <th>Ghz</th>\n",
       "      <th>Cpu</th>\n",
       "      <th>Ssd</th>\n",
       "      <th>ts_info</th>\n",
       "      <th>resolution</th>\n",
       "      <th>memory/ram</th>\n",
       "      <th>Brand</th>\n",
       "      <th>graphics_quality</th>\n",
       "    </tr>\n",
       "  </thead>\n",
       "  <tbody>\n",
       "    <tr>\n",
       "      <th>price</th>\n",
       "      <td>1.000000</td>\n",
       "      <td>-0.163545</td>\n",
       "      <td>0.077466</td>\n",
       "      <td>0.196419</td>\n",
       "      <td>0.223864</td>\n",
       "      <td>0.431199</td>\n",
       "      <td>-0.118259</td>\n",
       "      <td>0.390689</td>\n",
       "      <td>0.506471</td>\n",
       "      <td>0.079640</td>\n",
       "      <td>0.412155</td>\n",
       "    </tr>\n",
       "    <tr>\n",
       "      <th>type</th>\n",
       "      <td>-0.163545</td>\n",
       "      <td>1.000000</td>\n",
       "      <td>0.075874</td>\n",
       "      <td>-0.221119</td>\n",
       "      <td>-0.098227</td>\n",
       "      <td>-0.045898</td>\n",
       "      <td>0.037990</td>\n",
       "      <td>0.025014</td>\n",
       "      <td>-0.095554</td>\n",
       "      <td>0.154165</td>\n",
       "      <td>-0.182796</td>\n",
       "    </tr>\n",
       "    <tr>\n",
       "      <th>os</th>\n",
       "      <td>0.077466</td>\n",
       "      <td>0.075874</td>\n",
       "      <td>1.000000</td>\n",
       "      <td>0.022832</td>\n",
       "      <td>0.192501</td>\n",
       "      <td>0.141520</td>\n",
       "      <td>-0.102764</td>\n",
       "      <td>0.033080</td>\n",
       "      <td>0.072031</td>\n",
       "      <td>-0.056035</td>\n",
       "      <td>0.077366</td>\n",
       "    </tr>\n",
       "    <tr>\n",
       "      <th>Ghz</th>\n",
       "      <td>0.196419</td>\n",
       "      <td>-0.221119</td>\n",
       "      <td>0.022832</td>\n",
       "      <td>1.000000</td>\n",
       "      <td>0.479481</td>\n",
       "      <td>0.183544</td>\n",
       "      <td>-0.159216</td>\n",
       "      <td>0.062910</td>\n",
       "      <td>0.197620</td>\n",
       "      <td>-0.187199</td>\n",
       "      <td>-0.058103</td>\n",
       "    </tr>\n",
       "    <tr>\n",
       "      <th>Cpu</th>\n",
       "      <td>0.223864</td>\n",
       "      <td>-0.098227</td>\n",
       "      <td>0.192501</td>\n",
       "      <td>0.479481</td>\n",
       "      <td>1.000000</td>\n",
       "      <td>0.253600</td>\n",
       "      <td>-0.176362</td>\n",
       "      <td>0.042543</td>\n",
       "      <td>0.155556</td>\n",
       "      <td>-0.194608</td>\n",
       "      <td>0.175490</td>\n",
       "    </tr>\n",
       "    <tr>\n",
       "      <th>Ssd</th>\n",
       "      <td>0.431199</td>\n",
       "      <td>-0.045898</td>\n",
       "      <td>0.141520</td>\n",
       "      <td>0.183544</td>\n",
       "      <td>0.253600</td>\n",
       "      <td>1.000000</td>\n",
       "      <td>-0.331395</td>\n",
       "      <td>0.026244</td>\n",
       "      <td>0.551215</td>\n",
       "      <td>-0.316722</td>\n",
       "      <td>0.023959</td>\n",
       "    </tr>\n",
       "    <tr>\n",
       "      <th>ts_info</th>\n",
       "      <td>-0.118259</td>\n",
       "      <td>0.037990</td>\n",
       "      <td>-0.102764</td>\n",
       "      <td>-0.159216</td>\n",
       "      <td>-0.176362</td>\n",
       "      <td>-0.331395</td>\n",
       "      <td>1.000000</td>\n",
       "      <td>0.264008</td>\n",
       "      <td>-0.219899</td>\n",
       "      <td>0.392489</td>\n",
       "      <td>-0.036437</td>\n",
       "    </tr>\n",
       "    <tr>\n",
       "      <th>resolution</th>\n",
       "      <td>0.390689</td>\n",
       "      <td>0.025014</td>\n",
       "      <td>0.033080</td>\n",
       "      <td>0.062910</td>\n",
       "      <td>0.042543</td>\n",
       "      <td>0.026244</td>\n",
       "      <td>0.264008</td>\n",
       "      <td>1.000000</td>\n",
       "      <td>0.030373</td>\n",
       "      <td>0.205349</td>\n",
       "      <td>0.152867</td>\n",
       "    </tr>\n",
       "    <tr>\n",
       "      <th>memory/ram</th>\n",
       "      <td>0.506471</td>\n",
       "      <td>-0.095554</td>\n",
       "      <td>0.072031</td>\n",
       "      <td>0.197620</td>\n",
       "      <td>0.155556</td>\n",
       "      <td>0.551215</td>\n",
       "      <td>-0.219899</td>\n",
       "      <td>0.030373</td>\n",
       "      <td>1.000000</td>\n",
       "      <td>-0.191097</td>\n",
       "      <td>0.091680</td>\n",
       "    </tr>\n",
       "    <tr>\n",
       "      <th>Brand</th>\n",
       "      <td>0.079640</td>\n",
       "      <td>0.154165</td>\n",
       "      <td>-0.056035</td>\n",
       "      <td>-0.187199</td>\n",
       "      <td>-0.194608</td>\n",
       "      <td>-0.316722</td>\n",
       "      <td>0.392489</td>\n",
       "      <td>0.205349</td>\n",
       "      <td>-0.191097</td>\n",
       "      <td>1.000000</td>\n",
       "      <td>0.085099</td>\n",
       "    </tr>\n",
       "    <tr>\n",
       "      <th>graphics_quality</th>\n",
       "      <td>0.412155</td>\n",
       "      <td>-0.182796</td>\n",
       "      <td>0.077366</td>\n",
       "      <td>-0.058103</td>\n",
       "      <td>0.175490</td>\n",
       "      <td>0.023959</td>\n",
       "      <td>-0.036437</td>\n",
       "      <td>0.152867</td>\n",
       "      <td>0.091680</td>\n",
       "      <td>0.085099</td>\n",
       "      <td>1.000000</td>\n",
       "    </tr>\n",
       "  </tbody>\n",
       "</table>\n",
       "</div>"
      ],
      "text/plain": [
       "                     price      type        os       Ghz       Cpu       Ssd  \\\n",
       "price             1.000000 -0.163545  0.077466  0.196419  0.223864  0.431199   \n",
       "type             -0.163545  1.000000  0.075874 -0.221119 -0.098227 -0.045898   \n",
       "os                0.077466  0.075874  1.000000  0.022832  0.192501  0.141520   \n",
       "Ghz               0.196419 -0.221119  0.022832  1.000000  0.479481  0.183544   \n",
       "Cpu               0.223864 -0.098227  0.192501  0.479481  1.000000  0.253600   \n",
       "Ssd               0.431199 -0.045898  0.141520  0.183544  0.253600  1.000000   \n",
       "ts_info          -0.118259  0.037990 -0.102764 -0.159216 -0.176362 -0.331395   \n",
       "resolution        0.390689  0.025014  0.033080  0.062910  0.042543  0.026244   \n",
       "memory/ram        0.506471 -0.095554  0.072031  0.197620  0.155556  0.551215   \n",
       "Brand             0.079640  0.154165 -0.056035 -0.187199 -0.194608 -0.316722   \n",
       "graphics_quality  0.412155 -0.182796  0.077366 -0.058103  0.175490  0.023959   \n",
       "\n",
       "                   ts_info  resolution  memory/ram     Brand  graphics_quality  \n",
       "price            -0.118259    0.390689    0.506471  0.079640          0.412155  \n",
       "type              0.037990    0.025014   -0.095554  0.154165         -0.182796  \n",
       "os               -0.102764    0.033080    0.072031 -0.056035          0.077366  \n",
       "Ghz              -0.159216    0.062910    0.197620 -0.187199         -0.058103  \n",
       "Cpu              -0.176362    0.042543    0.155556 -0.194608          0.175490  \n",
       "Ssd              -0.331395    0.026244    0.551215 -0.316722          0.023959  \n",
       "ts_info           1.000000    0.264008   -0.219899  0.392489         -0.036437  \n",
       "resolution        0.264008    1.000000    0.030373  0.205349          0.152867  \n",
       "memory/ram       -0.219899    0.030373    1.000000 -0.191097          0.091680  \n",
       "Brand             0.392489    0.205349   -0.191097  1.000000          0.085099  \n",
       "graphics_quality -0.036437    0.152867    0.091680  0.085099          1.000000  "
      ]
     },
     "execution_count": 136,
     "metadata": {},
     "output_type": "execute_result"
    }
   ],
   "source": [
    "modeldf.corr()"
   ]
  },
  {
   "cell_type": "code",
   "execution_count": 137,
   "id": "86c0f623",
   "metadata": {},
   "outputs": [],
   "source": [
    "modeldf = modeldf.drop(columns = ['type', 'os', 'ts_info','graphics','Brand', 'Cpu'])"
   ]
  },
  {
   "cell_type": "code",
   "execution_count": 138,
   "id": "1102d5ad",
   "metadata": {},
   "outputs": [
    {
     "data": {
      "text/html": [
       "<div>\n",
       "<style scoped>\n",
       "    .dataframe tbody tr th:only-of-type {\n",
       "        vertical-align: middle;\n",
       "    }\n",
       "\n",
       "    .dataframe tbody tr th {\n",
       "        vertical-align: top;\n",
       "    }\n",
       "\n",
       "    .dataframe thead th {\n",
       "        text-align: right;\n",
       "    }\n",
       "</style>\n",
       "<table border=\"1\" class=\"dataframe\">\n",
       "  <thead>\n",
       "    <tr style=\"text-align: right;\">\n",
       "      <th></th>\n",
       "      <th>price</th>\n",
       "      <th>Ghz</th>\n",
       "      <th>Ssd</th>\n",
       "      <th>resolution</th>\n",
       "      <th>memory/ram</th>\n",
       "      <th>graphics_quality</th>\n",
       "    </tr>\n",
       "  </thead>\n",
       "  <tbody>\n",
       "    <tr>\n",
       "      <th>price</th>\n",
       "      <td>1.000000</td>\n",
       "      <td>0.196419</td>\n",
       "      <td>0.431199</td>\n",
       "      <td>0.390689</td>\n",
       "      <td>0.506471</td>\n",
       "      <td>0.412155</td>\n",
       "    </tr>\n",
       "    <tr>\n",
       "      <th>Ghz</th>\n",
       "      <td>0.196419</td>\n",
       "      <td>1.000000</td>\n",
       "      <td>0.183544</td>\n",
       "      <td>0.062910</td>\n",
       "      <td>0.197620</td>\n",
       "      <td>-0.058103</td>\n",
       "    </tr>\n",
       "    <tr>\n",
       "      <th>Ssd</th>\n",
       "      <td>0.431199</td>\n",
       "      <td>0.183544</td>\n",
       "      <td>1.000000</td>\n",
       "      <td>0.026244</td>\n",
       "      <td>0.551215</td>\n",
       "      <td>0.023959</td>\n",
       "    </tr>\n",
       "    <tr>\n",
       "      <th>resolution</th>\n",
       "      <td>0.390689</td>\n",
       "      <td>0.062910</td>\n",
       "      <td>0.026244</td>\n",
       "      <td>1.000000</td>\n",
       "      <td>0.030373</td>\n",
       "      <td>0.152867</td>\n",
       "    </tr>\n",
       "    <tr>\n",
       "      <th>memory/ram</th>\n",
       "      <td>0.506471</td>\n",
       "      <td>0.197620</td>\n",
       "      <td>0.551215</td>\n",
       "      <td>0.030373</td>\n",
       "      <td>1.000000</td>\n",
       "      <td>0.091680</td>\n",
       "    </tr>\n",
       "    <tr>\n",
       "      <th>graphics_quality</th>\n",
       "      <td>0.412155</td>\n",
       "      <td>-0.058103</td>\n",
       "      <td>0.023959</td>\n",
       "      <td>0.152867</td>\n",
       "      <td>0.091680</td>\n",
       "      <td>1.000000</td>\n",
       "    </tr>\n",
       "  </tbody>\n",
       "</table>\n",
       "</div>"
      ],
      "text/plain": [
       "                     price       Ghz       Ssd  resolution  memory/ram  \\\n",
       "price             1.000000  0.196419  0.431199    0.390689    0.506471   \n",
       "Ghz               0.196419  1.000000  0.183544    0.062910    0.197620   \n",
       "Ssd               0.431199  0.183544  1.000000    0.026244    0.551215   \n",
       "resolution        0.390689  0.062910  0.026244    1.000000    0.030373   \n",
       "memory/ram        0.506471  0.197620  0.551215    0.030373    1.000000   \n",
       "graphics_quality  0.412155 -0.058103  0.023959    0.152867    0.091680   \n",
       "\n",
       "                  graphics_quality  \n",
       "price                     0.412155  \n",
       "Ghz                      -0.058103  \n",
       "Ssd                       0.023959  \n",
       "resolution                0.152867  \n",
       "memory/ram                0.091680  \n",
       "graphics_quality          1.000000  "
      ]
     },
     "execution_count": 138,
     "metadata": {},
     "output_type": "execute_result"
    }
   ],
   "source": [
    "modeldf.corr()"
   ]
  },
  {
   "cell_type": "code",
   "execution_count": 139,
   "id": "bf052a39",
   "metadata": {},
   "outputs": [
    {
     "data": {
      "text/plain": [
       "(818, 6)"
      ]
     },
     "execution_count": 139,
     "metadata": {},
     "output_type": "execute_result"
    }
   ],
   "source": [
    "modeldf.shape"
   ]
  },
  {
   "cell_type": "code",
   "execution_count": null,
   "id": "8d8a6f96",
   "metadata": {},
   "outputs": [],
   "source": []
  },
  {
   "cell_type": "code",
   "execution_count": 140,
   "id": "31b4fe64",
   "metadata": {},
   "outputs": [
    {
     "name": "stdout",
     "output_type": "stream",
     "text": [
      "<class 'pandas.core.frame.DataFrame'>\n",
      "Int64Index: 818 entries, 64 to 3595\n",
      "Data columns (total 6 columns):\n",
      " #   Column            Non-Null Count  Dtype  \n",
      "---  ------            --------------  -----  \n",
      " 0   price             818 non-null    float64\n",
      " 1   Ghz               818 non-null    float64\n",
      " 2   Ssd               818 non-null    int64  \n",
      " 3   resolution        818 non-null    int64  \n",
      " 4   memory/ram        818 non-null    int64  \n",
      " 5   graphics_quality  818 non-null    int64  \n",
      "dtypes: float64(2), int64(4)\n",
      "memory usage: 44.7 KB\n"
     ]
    }
   ],
   "source": [
    "modeldf.info()"
   ]
  },
  {
   "cell_type": "markdown",
   "id": "ca9ff779",
   "metadata": {},
   "source": [
    "# Model Training"
   ]
  },
  {
   "cell_type": "code",
   "execution_count": 141,
   "id": "894c6785",
   "metadata": {},
   "outputs": [
    {
     "data": {
      "text/html": [
       "<div>\n",
       "<style scoped>\n",
       "    .dataframe tbody tr th:only-of-type {\n",
       "        vertical-align: middle;\n",
       "    }\n",
       "\n",
       "    .dataframe tbody tr th {\n",
       "        vertical-align: top;\n",
       "    }\n",
       "\n",
       "    .dataframe thead th {\n",
       "        text-align: right;\n",
       "    }\n",
       "</style>\n",
       "<table border=\"1\" class=\"dataframe\">\n",
       "  <thead>\n",
       "    <tr style=\"text-align: right;\">\n",
       "      <th></th>\n",
       "      <th>price</th>\n",
       "      <th>Ghz</th>\n",
       "      <th>Ssd</th>\n",
       "      <th>resolution</th>\n",
       "      <th>memory/ram</th>\n",
       "      <th>graphics_quality</th>\n",
       "    </tr>\n",
       "  </thead>\n",
       "  <tbody>\n",
       "    <tr>\n",
       "      <th>64</th>\n",
       "      <td>1849.99</td>\n",
       "      <td>2.6</td>\n",
       "      <td>5</td>\n",
       "      <td>3</td>\n",
       "      <td>8</td>\n",
       "      <td>0</td>\n",
       "    </tr>\n",
       "    <tr>\n",
       "      <th>468</th>\n",
       "      <td>1125.00</td>\n",
       "      <td>2.3</td>\n",
       "      <td>3</td>\n",
       "      <td>3</td>\n",
       "      <td>3</td>\n",
       "      <td>0</td>\n",
       "    </tr>\n",
       "    <tr>\n",
       "      <th>469</th>\n",
       "      <td>1149.99</td>\n",
       "      <td>2.3</td>\n",
       "      <td>3</td>\n",
       "      <td>3</td>\n",
       "      <td>6</td>\n",
       "      <td>0</td>\n",
       "    </tr>\n",
       "    <tr>\n",
       "      <th>473</th>\n",
       "      <td>1699.97</td>\n",
       "      <td>2.3</td>\n",
       "      <td>4</td>\n",
       "      <td>18</td>\n",
       "      <td>3</td>\n",
       "      <td>1</td>\n",
       "    </tr>\n",
       "    <tr>\n",
       "      <th>475</th>\n",
       "      <td>1099.00</td>\n",
       "      <td>2.0</td>\n",
       "      <td>5</td>\n",
       "      <td>3</td>\n",
       "      <td>8</td>\n",
       "      <td>0</td>\n",
       "    </tr>\n",
       "  </tbody>\n",
       "</table>\n",
       "</div>"
      ],
      "text/plain": [
       "       price  Ghz  Ssd  resolution  memory/ram  graphics_quality\n",
       "64   1849.99  2.6    5           3           8                 0\n",
       "468  1125.00  2.3    3           3           3                 0\n",
       "469  1149.99  2.3    3           3           6                 0\n",
       "473  1699.97  2.3    4          18           3                 1\n",
       "475  1099.00  2.0    5           3           8                 0"
      ]
     },
     "execution_count": 141,
     "metadata": {},
     "output_type": "execute_result"
    }
   ],
   "source": [
    "modeldf.head(5)"
   ]
  },
  {
   "cell_type": "code",
   "execution_count": 142,
   "id": "0ee68b5a",
   "metadata": {},
   "outputs": [
    {
     "data": {
      "text/plain": [
       "64      1849.99\n",
       "468     1125.00\n",
       "469     1149.99\n",
       "473     1699.97\n",
       "475     1099.00\n",
       "         ...   \n",
       "3591    3799.00\n",
       "3592    2107.29\n",
       "3593    2117.72\n",
       "3594    2247.02\n",
       "3595    1599.99\n",
       "Name: price, Length: 818, dtype: float64"
      ]
     },
     "execution_count": 142,
     "metadata": {},
     "output_type": "execute_result"
    }
   ],
   "source": [
    "y = modeldf.iloc[:,0]\n",
    "y"
   ]
  },
  {
   "cell_type": "code",
   "execution_count": 143,
   "id": "56496ef3",
   "metadata": {},
   "outputs": [
    {
     "data": {
      "text/html": [
       "<div>\n",
       "<style scoped>\n",
       "    .dataframe tbody tr th:only-of-type {\n",
       "        vertical-align: middle;\n",
       "    }\n",
       "\n",
       "    .dataframe tbody tr th {\n",
       "        vertical-align: top;\n",
       "    }\n",
       "\n",
       "    .dataframe thead th {\n",
       "        text-align: right;\n",
       "    }\n",
       "</style>\n",
       "<table border=\"1\" class=\"dataframe\">\n",
       "  <thead>\n",
       "    <tr style=\"text-align: right;\">\n",
       "      <th></th>\n",
       "      <th>Ghz</th>\n",
       "      <th>Ssd</th>\n",
       "      <th>resolution</th>\n",
       "      <th>memory/ram</th>\n",
       "      <th>graphics_quality</th>\n",
       "    </tr>\n",
       "  </thead>\n",
       "  <tbody>\n",
       "    <tr>\n",
       "      <th>64</th>\n",
       "      <td>2.6</td>\n",
       "      <td>5</td>\n",
       "      <td>3</td>\n",
       "      <td>8</td>\n",
       "      <td>0</td>\n",
       "    </tr>\n",
       "    <tr>\n",
       "      <th>468</th>\n",
       "      <td>2.3</td>\n",
       "      <td>3</td>\n",
       "      <td>3</td>\n",
       "      <td>3</td>\n",
       "      <td>0</td>\n",
       "    </tr>\n",
       "    <tr>\n",
       "      <th>469</th>\n",
       "      <td>2.3</td>\n",
       "      <td>3</td>\n",
       "      <td>3</td>\n",
       "      <td>6</td>\n",
       "      <td>0</td>\n",
       "    </tr>\n",
       "    <tr>\n",
       "      <th>473</th>\n",
       "      <td>2.3</td>\n",
       "      <td>4</td>\n",
       "      <td>18</td>\n",
       "      <td>3</td>\n",
       "      <td>1</td>\n",
       "    </tr>\n",
       "    <tr>\n",
       "      <th>475</th>\n",
       "      <td>2.0</td>\n",
       "      <td>5</td>\n",
       "      <td>3</td>\n",
       "      <td>8</td>\n",
       "      <td>0</td>\n",
       "    </tr>\n",
       "    <tr>\n",
       "      <th>...</th>\n",
       "      <td>...</td>\n",
       "      <td>...</td>\n",
       "      <td>...</td>\n",
       "      <td>...</td>\n",
       "      <td>...</td>\n",
       "    </tr>\n",
       "    <tr>\n",
       "      <th>3591</th>\n",
       "      <td>2.2</td>\n",
       "      <td>5</td>\n",
       "      <td>11</td>\n",
       "      <td>6</td>\n",
       "      <td>3</td>\n",
       "    </tr>\n",
       "    <tr>\n",
       "      <th>3592</th>\n",
       "      <td>2.4</td>\n",
       "      <td>5</td>\n",
       "      <td>11</td>\n",
       "      <td>6</td>\n",
       "      <td>1</td>\n",
       "    </tr>\n",
       "    <tr>\n",
       "      <th>3593</th>\n",
       "      <td>2.2</td>\n",
       "      <td>4</td>\n",
       "      <td>11</td>\n",
       "      <td>6</td>\n",
       "      <td>0</td>\n",
       "    </tr>\n",
       "    <tr>\n",
       "      <th>3594</th>\n",
       "      <td>2.3</td>\n",
       "      <td>4</td>\n",
       "      <td>11</td>\n",
       "      <td>6</td>\n",
       "      <td>1</td>\n",
       "    </tr>\n",
       "    <tr>\n",
       "      <th>3595</th>\n",
       "      <td>2.6</td>\n",
       "      <td>4</td>\n",
       "      <td>19</td>\n",
       "      <td>6</td>\n",
       "      <td>1</td>\n",
       "    </tr>\n",
       "  </tbody>\n",
       "</table>\n",
       "<p>818 rows × 5 columns</p>\n",
       "</div>"
      ],
      "text/plain": [
       "      Ghz  Ssd  resolution  memory/ram  graphics_quality\n",
       "64    2.6    5           3           8                 0\n",
       "468   2.3    3           3           3                 0\n",
       "469   2.3    3           3           6                 0\n",
       "473   2.3    4          18           3                 1\n",
       "475   2.0    5           3           8                 0\n",
       "...   ...  ...         ...         ...               ...\n",
       "3591  2.2    5          11           6                 3\n",
       "3592  2.4    5          11           6                 1\n",
       "3593  2.2    4          11           6                 0\n",
       "3594  2.3    4          11           6                 1\n",
       "3595  2.6    4          19           6                 1\n",
       "\n",
       "[818 rows x 5 columns]"
      ]
     },
     "execution_count": 143,
     "metadata": {},
     "output_type": "execute_result"
    }
   ],
   "source": [
    "X = modeldf.iloc[:,1:]\n",
    "X"
   ]
  },
  {
   "cell_type": "code",
   "execution_count": 145,
   "id": "6f7890ce",
   "metadata": {},
   "outputs": [],
   "source": [
    "from sklearn.model_selection import cross_val_score, KFold"
   ]
  },
  {
   "cell_type": "code",
   "execution_count": 146,
   "id": "1af907a1",
   "metadata": {},
   "outputs": [
    {
     "name": "stdout",
     "output_type": "stream",
     "text": [
      "Best Alpha: 10\n",
      "Best R2 Score: 0.2707901770403023\n",
      "All CV Scores:\n",
      "  param_model__alpha  mean_test_score  std_test_score\n",
      "0             0.0001         0.269561        0.149366\n",
      "1              0.001         0.269561        0.149365\n",
      "2               0.01         0.269563        0.149352\n",
      "3                0.1         0.269584        0.149223\n",
      "4                  1         0.269784        0.147934\n",
      "5                1.5         0.269887        0.147220\n",
      "6                 10         0.270790        0.135275\n",
      "7                100         0.205388        0.100426\n"
     ]
    }
   ],
   "source": [
    "from sklearn.linear_model import Lasso\n",
    "from sklearn.model_selection import GridSearchCV\n",
    "from sklearn.pipeline import Pipeline\n",
    "k = 5\n",
    "# The hyperparameter tuning that Lasso and Ridge undergoes is choosing the alpha value\n",
    "# The alpha value is used to mangify the coefficients by a multiplier of alpha\n",
    "# When alpha is 0 you have 0 penalty and you are predicitng on RSS only (linear regression)\n",
    "modelL = Lasso()\n",
    "\n",
    "steps = list()\n",
    "steps.append(('scaler', StandardScaler()))\n",
    "steps.append(('model', Lasso()))\n",
    "pipeline = Pipeline(steps = steps)\n",
    "\n",
    "\n",
    "# Setting potential alpha value candidates\n",
    "alpha_values = [0.0001, 0.001, 0.01, 0.1, 1, 1.5, 10, 100]\n",
    "\n",
    "\n",
    "# creating the param_grid and which parameters are going to be tuned with model\n",
    "param_grid = {'model__alpha': alpha_values}\n",
    "\n",
    "# grid search + cross validation will\n",
    "grid_search = GridSearchCV(estimator = pipeline, param_grid = param_grid, cv = k, scoring = 'r2')\n",
    "grid_search.fit(X, y)\n",
    "\n",
    "\n",
    "print(\"Best Alpha:\", grid_search.best_params_['model__alpha'])\n",
    "print(\"Best R2 Score:\", grid_search.best_score_)\n",
    "\n",
    "cv_results_df = pd.DataFrame(grid_search.cv_results_)\n",
    "print(\"All CV Scores:\")\n",
    "print(cv_results_df[['param_model__alpha', 'mean_test_score', 'std_test_score']])\n",
    "\n",
    "\n"
   ]
  },
  {
   "cell_type": "code",
   "execution_count": 147,
   "id": "848989ae",
   "metadata": {},
   "outputs": [
    {
     "name": "stdout",
     "output_type": "stream",
     "text": [
      "Cross-Validation R2 scores: [0.71122813 0.5443666  0.6439185  0.641298   0.73184841]\n",
      "Average R2 score: 0.6545319292805309\n",
      "Standard Deviation of R2 scores: 0.06575177301632522\n"
     ]
    }
   ],
   "source": [
    "from sklearn.tree import DecisionTreeRegressor\n",
    "from sklearn.pipeline import Pipeline\n",
    "\n",
    "\n",
    "# Creating pipeline\n",
    "steps = list()\n",
    "steps.append(('scaler', StandardScaler()))\n",
    "steps.append(('model', DecisionTreeRegressor()))\n",
    "pipeline = Pipeline(steps = steps)\n",
    "\n",
    "\n",
    "cv = KFold(n_splits = 5, random_state = 42, shuffle = True)\n",
    "\n",
    "\n",
    "cv_scores = cross_val_score(pipeline, X, y, cv=cv, scoring='r2')\n",
    "\n",
    "print(\"Cross-Validation R2 scores:\", cv_scores)\n",
    "\n",
    "\n",
    "avg_score = cv_scores.mean()\n",
    "std_score = cv_scores.std()\n",
    "\n",
    "\n",
    "print(\"Average R2 score:\", avg_score)\n",
    "print(\"Standard Deviation of R2 scores:\", std_score)\n",
    "\n",
    "\n"
   ]
  },
  {
   "cell_type": "code",
   "execution_count": 148,
   "id": "23c648c7",
   "metadata": {},
   "outputs": [
    {
     "name": "stdout",
     "output_type": "stream",
     "text": [
      "Cross-Validation R2 scores: [0.13511607 0.42380057 0.57346217 0.44330559 0.69292377]\n",
      "Average R2 score: 0.45372163512639635\n",
      "Standard Deviation of R2 scores: 0.18658441810910648\n"
     ]
    }
   ],
   "source": [
    "from sklearn.ensemble import RandomForestRegressor\n",
    "\n",
    "\n",
    "steps = list()\n",
    "steps.append(('scaler', StandardScaler()))\n",
    "steps.append(('model', RandomForestRegressor(n_estimators=100)))\n",
    "pipeline = Pipeline(steps = steps)\n",
    "\n",
    "\n",
    "cv_scores = cross_val_score(pipeline, X, y, cv=k, scoring='r2')\n",
    "\n",
    "print(\"Cross-Validation R2 scores:\", cv_scores)\n",
    "\n",
    "\n",
    "avg_score = cv_scores.mean()\n",
    "std_score = cv_scores.std()\n",
    "\n",
    "\n",
    "print(\"Average R2 score:\", avg_score)\n",
    "print(\"Standard Deviation of R2 scores:\", std_score)\n",
    "\n"
   ]
  },
  {
   "cell_type": "code",
   "execution_count": 149,
   "id": "0592eb0a",
   "metadata": {},
   "outputs": [
    {
     "name": "stdout",
     "output_type": "stream",
     "text": [
      "Cross-Validation R2 scores: [0.7706915  0.70070582 0.67024468 0.76716117 0.70748644]\n",
      "Average R2 score: 0.7232579210412992\n",
      "Standard Deviation of R2 scores: 0.039357795806376716\n"
     ]
    }
   ],
   "source": [
    "import xgboost as xgb\n",
    "\n",
    "# Create an XGBoost regression model\n",
    "#modelXGB = xgb.XGBRegressor()\n",
    "\n",
    "# Creating pipeline \n",
    "steps = list()\n",
    "steps.append(('scaler', StandardScaler()))\n",
    "steps.append(('model', xgb.XGBRegressor(learning_rate = 0.1, max_depth = 5, n_estimators = 100)))\n",
    "pipeline = Pipeline(steps = steps)\n",
    "\n",
    "cv = KFold(n_splits = 5, shuffle = True)\n",
    "\n",
    "\n",
    "cv_scores = cross_val_score(pipeline, X, y, cv=cv, scoring='r2')\n",
    "\n",
    "print(\"Cross-Validation R2 scores:\", cv_scores)\n",
    "\n",
    "\n",
    "avg_score = cv_scores.mean()\n",
    "std_score = cv_scores.std()\n",
    "\n",
    "\n",
    "print(\"Average R2 score:\", avg_score)\n",
    "print(\"Standard Deviation of R2 scores:\", std_score)\n",
    "\n"
   ]
  },
  {
   "cell_type": "code",
   "execution_count": 150,
   "id": "12fff7c2",
   "metadata": {},
   "outputs": [
    {
     "name": "stdout",
     "output_type": "stream",
     "text": [
      "164\n",
      "5\n"
     ]
    }
   ],
   "source": [
    "from sklearn.metrics import r2_score\n",
    "from sklearn.model_selection import train_test_split\n",
    "from sklearn.preprocessing import StandardScaler\n",
    "\n",
    "X_train, X_test, y_train, y_test = train_test_split(X, y, test_size = 0.2)\n",
    "\n",
    "scaler = StandardScaler()\n",
    "\n",
    "X_train = scaler.fit_transform(X_train)\n",
    "\n",
    "X_test = scaler.transform(X_test)\n",
    "X_test\n",
    "\n",
    "\n",
    "final_model_xgb = xgb.XGBRegressor(learning_rate = 0.1, max_depth = 5, n_estimators = 100)\n",
    "\n",
    "\n",
    "final_model_xgb.fit(X_train, y_train)\n",
    "\n",
    "\n",
    "ypred = final_model_xgb.predict(X_test)\n",
    "\n",
    "r2 = r2_score(y_test, ypred)\n",
    "\n",
    "n = X_test.shape[0]\n",
    "p = X_test.shape[1]\n",
    "\n",
    "print(n)\n",
    "print(p)\n",
    "adj_r2 = 1 - (1-r2)*(n-1)/(n- p -1)\n",
    "\n"
   ]
  },
  {
   "cell_type": "code",
   "execution_count": 151,
   "id": "d738a16b",
   "metadata": {},
   "outputs": [],
   "source": [
    "param_grid = {\n",
    "    'learning_rate': [0.01, 0.1, 0.2],\n",
    "    'max_depth': [3, 5, 7],\n",
    "    'n_estimators': [50, 100, 150],\n",
    "    # Add more hyperparameters as needed\n",
    "}\n",
    "xgb_model = xgb.XGBRegressor()\n",
    "grid_search = GridSearchCV(estimator=xgb_model, param_grid=param_grid, cv=5, scoring='neg_mean_squared_error', n_jobs=-1)\n",
    "grid_search.fit(X_train, y_train)\n",
    "best_params = grid_search.best_params_\n",
    "best_model = grid_search.best_estimator_\n"
   ]
  },
  {
   "cell_type": "code",
   "execution_count": 152,
   "id": "0c3c482d",
   "metadata": {},
   "outputs": [
    {
     "name": "stdout",
     "output_type": "stream",
     "text": [
      "{'learning_rate': 0.2, 'max_depth': 5, 'n_estimators': 50}\n",
      "XGBRegressor(base_score=None, booster=None, callbacks=None,\n",
      "             colsample_bylevel=None, colsample_bynode=None,\n",
      "             colsample_bytree=None, early_stopping_rounds=None,\n",
      "             enable_categorical=False, eval_metric=None, feature_types=None,\n",
      "             gamma=None, gpu_id=None, grow_policy=None, importance_type=None,\n",
      "             interaction_constraints=None, learning_rate=0.2, max_bin=None,\n",
      "             max_cat_threshold=None, max_cat_to_onehot=None,\n",
      "             max_delta_step=None, max_depth=5, max_leaves=None,\n",
      "             min_child_weight=None, missing=nan, monotone_constraints=None,\n",
      "             n_estimators=50, n_jobs=None, num_parallel_tree=None,\n",
      "             predictor=None, random_state=None, ...)\n"
     ]
    }
   ],
   "source": [
    "print(best_params)\n",
    "print(best_model)"
   ]
  },
  {
   "cell_type": "code",
   "execution_count": 153,
   "id": "ac600a1f",
   "metadata": {},
   "outputs": [
    {
     "name": "stdout",
     "output_type": "stream",
     "text": [
      "The r2 of the model is  0.7544764682612872\n",
      "The adjusted r2 of the model is  0.7467067362442394\n"
     ]
    }
   ],
   "source": [
    "print('The r2 of the model is ', r2)\n",
    "print('The adjusted r2 of the model is ', adj_r2)"
   ]
  },
  {
   "cell_type": "code",
   "execution_count": null,
   "id": "5e0d5adb",
   "metadata": {},
   "outputs": [],
   "source": []
  }
 ],
 "metadata": {
  "kernelspec": {
   "display_name": "Python 3 (ipykernel)",
   "language": "python",
   "name": "python3"
  },
  "language_info": {
   "codemirror_mode": {
    "name": "ipython",
    "version": 3
   },
   "file_extension": ".py",
   "mimetype": "text/x-python",
   "name": "python",
   "nbconvert_exporter": "python",
   "pygments_lexer": "ipython3",
   "version": "3.9.13"
  }
 },
 "nbformat": 4,
 "nbformat_minor": 5
}
